{
 "cells": [
  {
   "cell_type": "markdown",
   "metadata": {},
   "source": [
    "# Noções de Estatística/Matemática"
   ]
  },
  {
   "cell_type": "markdown",
   "metadata": {},
   "source": [
    "## Algebra Linear\n",
    "\n"
   ]
  },
  {
   "cell_type": "markdown",
   "metadata": {},
   "source": [
    "## Estatística\n"
   ]
  },
  {
   "cell_type": "markdown",
   "metadata": {},
   "source": [
    "A Estatística nos dá ferramentas para descrever uma séria de dados, e extrair informações relevantes dele.\n",
    "\n",
    "Aqui apresentamos uma introdução/revisão de alguns conceitos que serão usados mais tarde, quando elaborarmos os modelos de previsão"
   ]
  },
  {
   "cell_type": "markdown",
   "metadata": {},
   "source": [
    "### Tendências centrais\n",
    "\n",
    "Dada uma distribuição, nos dão noção de onde está o centro dos elementos"
   ]
  },
  {
   "cell_type": "markdown",
   "metadata": {},
   "source": [
    "#### Média\n",
    "\n",
    "Provavelmente o mais comum de todos, definido como a soma dos elementos sobre a quantidade de elementos, normalmente denotado com uma barra.\n",
    "\n",
    "$$\\bar{k} = \\frac{\\sum_{i=1}^{N}k_i}{N}$$\n",
    "\n",
    "Nota: a média de uma distribuição é o valor que minimiza a soma das distâncias quadradas entre seus elementos: $\\sum_{i=1}^{N}(x-k_i)^2$"
   ]
  },
  {
   "cell_type": "markdown",
   "metadata": {},
   "source": [
    "#### Mediana\n",
    "\n",
    "É o valor médio dos elementos da distribuição, ou a média dos dois valores mais centrais, no caso de número par de elementos.\n",
    "\n",
    "Por exemplo: k = [1,2,3,6,7,8,10] $\\to$ mediana(k)=6\n",
    "\n",
    "Nota: é o valor que minimiza a soma dos módulos das distâncias entre seus elementos: $\\sum_{i=1}^{N}|x-k_i|$"
   ]
  },
  {
   "cell_type": "markdown",
   "metadata": {},
   "source": [
    "#### Quantil\n",
    "\n",
    "Generalização da mediana, representa o valor abaixo do qual está um determinado percentual dos dados\n",
    "\n",
    "- quantil(100%) = máximo\n",
    "- quantil(0%) = mínimo\n",
    "- quantil(50%) = mediana"
   ]
  },
  {
   "cell_type": "code",
   "execution_count": 14,
   "metadata": {},
   "outputs": [
    {
     "name": "stdout",
     "output_type": "stream",
     "text": [
      "media: 5.285714285714286\n",
      "mediana: 6.0\n",
      "max: 10\n",
      "min: 1\n",
      "q0: 1.0\n",
      "q1: 10.0\n"
     ]
    }
   ],
   "source": [
    "k = [1,2,3,6,7,8,10]\n",
    "import numpy as np\n",
    "\n",
    "print(\"media:\", np.mean(k))\n",
    "print(\"mediana:\", np.median(k))\n",
    "print(\"max:\", np.max(k))\n",
    "print(\"min:\", np.min(k))\n",
    "print(\"q0:\", np.percentile(k, 0))\n",
    "print(\"q1:\", np.percentile(k,100))"
   ]
  },
  {
   "cell_type": "markdown",
   "metadata": {},
   "source": [
    "### Dispersões\n",
    "\n",
    "Ao contrário das tendências centrais, que nos dizem onde os valores estão centratos, as medidas de dispersão nos informam o quão espalhados eles estão. Comumente temos '0' para concentrados em um ponto, aumentando de acordo com o quão dispersos estiverem"
   ]
  },
  {
   "cell_type": "markdown",
   "metadata": {},
   "source": [
    "#### Intervalo de variação\n",
    "\n",
    "É o menor intervalo que compreende todos os valores do conjunto de dados, a variação entre o valor máximo e o mínimo.\n",
    "\n",
    "$$IV = max(k) - min(k)$$"
   ]
  },
  {
   "cell_type": "markdown",
   "metadata": {},
   "source": [
    "#### Variância e desvio padrão\n",
    "\n",
    "A variância pode ser entendida algo como a média das distâncias quadráticas até a média.\n",
    "\n",
    "Para a população total: $$\\sigma = \\frac{\\sum_{i=1}^{N} (k_i - \\mu)^2}{N}$$\n",
    "Para uma amostra: $$\\hat{\\sigma} = \\frac{\\sum_{i=1}^{N} (k_i - \\bar{k})^2}{N-1}$$\n",
    "\n",
    "Como a variância acaba por ter a dimensão de $unid.^2$, sendo $unid.$ a unidade dos dados, é comum usarmos a definição de desvio padrão: \n",
    "\n",
    "$$std = \\sqrt{\\sigma}$$"
   ]
  },
  {
   "cell_type": "markdown",
   "metadata": {},
   "source": [
    "#### Intervalo interquartil\n",
    "\n",
    "Intervalo entre o quantil 25% e o quantil 75%\n",
    "\n",
    "$$IQ = q_{75\\%}(k)-q_{25\\%}(k)$$\n",
    "\n",
    "Ao contrário da variância, o intervalo interquartil é relativamente robusto à presença de *outliers* nos dados "
   ]
  },
  {
   "cell_type": "markdown",
   "metadata": {},
   "source": [
    "### Correlação\n",
    "\n",
    "Pode-se ainda estimar a relação entre diferentes aspectos dos elementos da base de dados. Por exemplo, o quão relacionado está o tamanho de um apartamento com o seu preço de venda.\n",
    "\n",
    "Para isso vejamos primeiro a covariância\n",
    "\n",
    "#### Covariância\n",
    "\n",
    "Analogamente à variância, que mede o desvio dos pontos de uma variável em relação a sua média, a covareância mensura esse desvio em duas variáveis, lado a lado.\n",
    "\n",
    "Por fórmula temos: $$cov(x,y) = \\frac{\\sum_{i=1}^{N} (x-\\bar{x})(y-\\bar{y})}{N-1}$$\n",
    "\n",
    "- difícil compreensão do significado pela unidade [x][y]\n",
    "- problema com as diferentes escalas utilizadas\n",
    "\n",
    "#### Correlação\n",
    "\n",
    "Correlação, por sua vez é uma adimensionalização da covariância, dividindo-a pelos desvios-padrão das variáveis.\n",
    "\n",
    "Temos então: $$corr(x,y) = \\frac{cov(x,y)}{std_x std_y}$$"
   ]
  },
  {
   "cell_type": "markdown",
   "metadata": {
    "collapsed": true
   },
   "source": [
    "Nota: falta de *correlação* não quer dizer falta de *relação*, apenas que ela não é linear "
   ]
  },
  {
   "cell_type": "markdown",
   "metadata": {},
   "source": [
    "##### Causa e correlação\n",
    "\n",
    "![Statistics](Aula2/stat_corr_caus.png)"
   ]
  },
  {
   "cell_type": "markdown",
   "metadata": {},
   "source": [
    "### Probabilidade\n",
    "\n",
    "Probabilidade é um modelo matemático para a *ignorância*.\n",
    "\n",
    "Pode ser entendida de forma mais objetiva, como a razão entre o número de eventos bem sucedidos e o número total de eventos possíveis, ou, mais subjetivamente, como o grau de confiança de que o evento será bem sucedido.\n",
    "\n",
    "Usando a convenção, denotamos $P(A)$ para a probabilidade de $A$ acontecer"
   ]
  },
  {
   "cell_type": "markdown",
   "metadata": {},
   "source": [
    "#### Probabilidade Condicional e Independência\n",
    "\n",
    "Qual é a probabilidade de $A$ ocorrer, sabendo que $B$? Denotamos $P(A|B)$\n",
    "\n",
    "$$P(A|B) = \\frac{P(A\\hspace{1mm}e\\hspace{1mm}B)}{P(B)}$$\n",
    "\n",
    "De onde tiramos que $P(A\\hspace{1mm}e\\hspace{1mm}B) = P(A|B)P(B) = P(B|A)P(A)$.\n",
    "\n",
    "Dizemos que dois eventos são independentes se o fato de $A$ ocorrer não mudar nossa informação sobre a probabilidade de $B$.\n",
    "\n",
    "Logo, para eventos independentes:\n",
    "\n",
    "$$P(A\\hspace{1mm}e\\hspace{1mm}B) = P(A)P(B)$$"
   ]
  },
  {
   "cell_type": "markdown",
   "metadata": {},
   "source": [
    "##### Teorema de Bayes\n",
    "\n",
    "Elaborando o resultado da probabilidade condicional, chegamos à seguinte fórmula:\n",
    "\n",
    "\n",
    "$$ P(A|B) = \\frac{P(B|A)P(A)}{P(B)} $$\n",
    "\n",
    "A forma simples do **Teorema de Bayes**\n",
    "\n",
    "Com isso, conseguimos refinar nosso conhecimento sobre $P(A)$ - a probabilidade *a priori* - com base na relação de $A$ e um evento ocorrido $B$, chegando à probabilidade *a posteriori* $P(A|B)$.\n",
    "\n",
    "Em *Machine Learning*, podemos utilizar esses resultados em modelos de classificação, como o **Naïve Bayes**"
   ]
  },
  {
   "cell_type": "markdown",
   "metadata": {},
   "source": [
    "### Distribuições \n",
    "\n",
    "A variável aleatória $x$ tem a ela associada uma distribuição que indica a probabilidade $p$ de que cada um dos valores possíveis de $x$ ocorra.\n",
    "\n",
    "A distribução pode ser discreta, como no lançar de uma moeda: {cara: 1/2, coroa: 1/2}, ou contínua, como a distância que um aviãozinho de papel voará ao ser lançado.\n",
    "\n",
    "No caso de ser contínua, costumamos descrevê-la através de uma **função de densidade de probabilidade (pdf) $f(x)$**, de forma que $\\int_{a}^{b} f(x)dx$ é a probabilidade de $x$ estar entre $a$ e $b$.\n",
    "\n",
    "De forma mais simples, para $h$ uma distância bem pequena, a chance de $x$ estar entre $k$ e $k\\hspace{1mm}$+$\\hspace{1mm}h$ é $f(k)\\hspace{1mm}h$ "
   ]
  },
  {
   "cell_type": "markdown",
   "metadata": {},
   "source": [
    "#### Distribuição Uniforme\n",
    "\n",
    "$X\\sim U(a,b)$ ser uma ditribuição uniforme significa que $x$ tem a mesma probabilidade de ser qualquer valor entre $a$ e $b$.\n",
    "\n",
    "- $\\mu = \\frac{a+b}{2}$\n",
    "- $\\sigma = \\frac{(b-a)^2}{12}$\n",
    "- $f(x) = \\frac{1}{(b-a)},\\hspace{1mm}a \\le x\\le b$"
   ]
  },
  {
   "cell_type": "markdown",
   "metadata": {},
   "source": [
    "#### Distribuição Normal\n",
    "\n",
    "Formalmente, o teorema do limite central afirma que, sendo $x$ a variável aleatória definida como a média entre $n$ amostras de outra distribuição $K$ qualquer, $x$ é normalmente distribuída para um $n$ suficientemente grande\n",
    "\n",
    "Apesar da formulação estranha, é um resultado recorrente nos processos comuns do dia-a-dia, e muita coisa é modelada como sendo aproximadamente normal, ainda que não exatamente.\n",
    "\n",
    "$$f(x) = \\frac{1}{\\sqrt{2\\pi}\\hspace{1mm}\\sigma} e^{-\\frac{(x-\\mu)^2}{2\\sigma^2}}$$"
   ]
  },
  {
   "cell_type": "code",
   "execution_count": null,
   "metadata": {
    "collapsed": true
   },
   "outputs": [],
   "source": []
  }
 ],
 "metadata": {
  "kernelspec": {
   "display_name": "Python 3",
   "language": "python",
   "name": "python3"
  },
  "language_info": {
   "codemirror_mode": {
    "name": "ipython",
    "version": 3
   },
   "file_extension": ".py",
   "mimetype": "text/x-python",
   "name": "python",
   "nbconvert_exporter": "python",
   "pygments_lexer": "ipython3",
   "version": "3.6.8"
  }
 },
 "nbformat": 4,
 "nbformat_minor": 2
}
