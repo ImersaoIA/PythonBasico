{
 "cells": [
  {
   "cell_type": "markdown",
   "metadata": {},
   "source": [
    "## Exercícios - Estatística"
   ]
  },
  {
   "cell_type": "markdown",
   "metadata": {},
   "source": [
    "A fim de se testar se uma moeda era justa - 50% de chance de dar cara ou coroa -, realizou-se o seguinte experimento:\n",
    "    \n",
    "    - A moeda é jogada 100 vezes, e registra-se 1 para cara e 0 para coroa.\n",
    "    - Repete-se o passo 100 vezes.\n",
    "\n",
    "O resultado está salvo na lista 'exp_moeda.csv'.\n",
    "\n",
    "Considerando um grau de tolerância de 5%. Consegue dizer se a moeda há motivos para ter a moeda como viciada?\n",
    "\n",
    "Dicas: \n",
    "- o número de sucessos em $n$ experimentos com probabilidade $p$ pode ser modelado por uma distribuição *binomial*; \n",
    "- teorema do limite central - média entre resultados; \n",
    "- comparação com a hipótese nula ($H_0$: p=0,5).\n",
    "- from scipy.stats import norm, norm.ppf(x%) da o valor numa distribuição $\\mathcal{N}(0,1)$ que está acima de x% dos resultados\n"
   ]
  },
  {
   "cell_type": "code",
   "execution_count": null,
   "metadata": {
    "collapsed": true
   },
   "outputs": [],
   "source": [
    "from scipy.stats import norm\n",
    "import numpy as np\n",
    "exp_moeda = np.genfromtxt('exp_moeda.csv', delimiter=',')\n",
    "\n",
    "\n",
    "\n",
    "\n",
    "\n",
    "z_c=norm.ppf(0.975)"
   ]
  },
  {
   "cell_type": "markdown",
   "metadata": {},
   "source": [
    "Haveria alguma diferença no resultado e em sua confiança se o experimento consistisse de apenas jogar 1.000 vezes a moeda?"
   ]
  },
  {
   "cell_type": "code",
   "execution_count": null,
   "metadata": {
    "collapsed": true
   },
   "outputs": [],
   "source": []
  }
 ],
 "metadata": {
  "kernelspec": {
   "display_name": "Python 3",
   "language": "python",
   "name": "python3"
  },
  "language_info": {
   "codemirror_mode": {
    "name": "ipython",
    "version": 3
   },
   "file_extension": ".py",
   "mimetype": "text/x-python",
   "name": "python",
   "nbconvert_exporter": "python",
   "pygments_lexer": "ipython3",
   "version": "3.6.8"
  }
 },
 "nbformat": 4,
 "nbformat_minor": 2
}
