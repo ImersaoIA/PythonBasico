{
 "cells": [
  {
   "cell_type": "markdown",
   "metadata": {},
   "source": [
    "# Machine Learning"
   ]
  },
  {
   "cell_type": "markdown",
   "metadata": {},
   "source": [
    "![ML](Aula3/ml_def.png)"
   ]
  },
  {
   "cell_type": "markdown",
   "metadata": {},
   "source": [
    "Basicamente, *machine learning*- ou  aprendizado de máquina - é o estudo que permite automatizar uma tarefa sem a intervenção direta de um humano, usando modelos para extrair as informações de bases de dados.\n",
    "\n",
    "No jargão, o modelo \"treina\" com base nos dados de entrada, e depois \"prevê\" resultados a medida que encontra novas situações.\n",
    "\n",
    "Os modelos podem ser:\n",
    "\n",
    "- Supervisionados: se o treino é realizado com a disponibilidade de variáveis respostas da base de treino\n",
    "- Não-supervisionados: se o próprio algortimo é capaz de extrair as relações relevantes e inferir a variável resposta. Geralmente utilizado em clusterização"
   ]
  },
  {
   "cell_type": "markdown",
   "metadata": {},
   "source": [
    "## Modelos e algoritmos\n",
    "\n",
    "Agora começamos algumas definições úteis\n",
    "\n",
    "- Modelo: entendemos aqui como a formulação matemática que relaciona as variáveis de entrada com a(s) variável(is) de saída. Por exemplo, usaremos mais tarde o modelo $Y = \\omega_0 + \\omega_1 X$, onde X é uma matriz nxm com n pontos de m variáveis.\n",
    "- Algoritmo: o processo matemático e estatítico usado para adequar - *fit* - o modelo aos dados.\n",
    "- Métrica de sucesso: índice que será usado na avaliação da qualidade do resultado. Depende do modelo utilizado\n",
    "- Preprocessamento, ou *data prep*: preparação da base de dados para uso no algoritmo (selecionar/extrair variáveis, tratar valores faltantes, etc)"
   ]
  },
  {
   "cell_type": "markdown",
   "metadata": {},
   "source": [
    "## *Overfitting* e *Underfitting*\n",
    "\n",
    "Dois fenômenos, totalmente opostos e igualmente desastrosos, podem ocorrer aos se realizar o *fit* do modelo.\n",
    "\n",
    "- ***Overfitting***: quando o modelo acaba por se adequar *demais* dos dados de treino, como se o algortimo tivesse decorado que tal entrada tem tal saída. Resultados podem estar longe da realidade para pontos não utilizados no *fit*. Dizemos que o modelo tem alta **variância**.\n",
    "- ***Underfitting***: pelo contrário, quando o modelo quase não se adequa aos dados de treino. Dizemos que tem alto **viés**, pois apesar das informações apresentadas, pouco concede"
   ]
  },
  {
   "cell_type": "markdown",
   "metadata": {},
   "source": [
    "### Validação Cruzada\n",
    "\n",
    "Uma maneira de contornar os problemas de *over* e *underfitting* é, em primeiro lugar, separar os dados em dois tipos: para treino e para teste. Assim temos maior controle quanto a qualidade do modelo nesse sentido.\n",
    "\n",
    "#### *Overfitting*:\n",
    "\n",
    "- **Característica**: Boa performance no *set* de treino, baixa no de teste.\n",
    "- **Causa**: muitas variáveis, modelo muito complexo\n",
    "- **Solução**: reduzir número de variáveis, regularização\\*, mais pontos\n",
    "\n",
    "#### *Underfitting*\n",
    "\n",
    "- **Característica**: Baixa performance tanto no *set* de treino quanto no de teste\n",
    "- **Causa**: modelo simples demais, muito rígido (regularização\\*)\n",
    "- **Solução**: mais variáveis"
   ]
  },
  {
   "cell_type": "markdown",
   "metadata": {},
   "source": [
    "### *Feature Selection*"
   ]
  },
  {
   "cell_type": "markdown",
   "metadata": {},
   "source": [
    "## Regressão Linear"
   ]
  },
  {
   "cell_type": "markdown",
   "metadata": {},
   "source": [
    "### Formulação\n",
    "\n",
    "Na regressão linear, representamos a relação entre as variáveis independentes e depentendes no seguinte modelo:\n",
    "\n",
    "$$y = \\theta_0 + \\theta_1x_1 + \\theta_2x_2 + ... + \\theta_nx_n + \\epsilon$$\n",
    "\n",
    "Ou, de forma matricial\n",
    "\n",
    "$$ y = \\Theta^{\\it{T}}X + \\epsilon$$\n",
    "\n",
    "Onde $\\Theta^{\\it{T}} = [\\theta_0\\hspace{1.5mm}\\theta_1 ... \\theta_n]\\hspace{1mm}$ e $\\hspace{1mm}X = [1\\hspace{1.5mm}x_1 ... x_n]^{\\it{T}}$, e $\\epsilon$ é o erro, que admitimos ter distribuição normal de média 0.\n",
    "\n",
    "Nota-se que o termo **linear** se refere à relação entre os coeficientes. Sendo assim, o modelo $ y = a_1x_1 +a_2x_1^2+ a_3\\log{x_1}$ é linear, pois basta substituir $x_2=x_1^2\\hspace{1mm}$ e $\\hspace{1mm}x_3=\\log{x_1}$\n",
    "\n",
    "#### Algoritmos\n",
    "\n",
    "Como definimos anteriormente, já temos o modelo, agora falta definir como encontrar os coeficientes que mais adequam esse modelo aos nossos dados. Como estamos falando de **modelos supervisionados**, basicamente cada algoritmo tentará minimizar uma **função custo**, que mensiona o quanto os pontos estimados $\\hat{y}$ estão divergentes dos pontos reais $y$.\n",
    "\n",
    "##### Mínimos Quadrados\n",
    "\n",
    "O mais simples dos algortimos, tem como função de custo a soma do quadrado das diferenças entre real e estimado, ou seja:\n",
    "\n",
    "$$ FC = \\sum_{j=0}^{M} (\\hat{y}_j-y_j)^2 $$\n",
    "\n",
    "Como consequência, o algoritmo se torna relativamente sensível a *outliers*, pontos que por acaso de distanciam do comportamento normal, já que o custo cresce com o quadrado da distância.\n",
    "\n",
    "\n",
    "\n",
    "**COLOCAR MINIMIZAÇÂO? (Derivadas parciais)**\n",
    "\n",
    "##### Ridge - Regularização $L_2$\n",
    "\n",
    "A regularização tem por objetivo limitar a exploração do algoritmo quanto ao espaço de soluções possíveis. No caso do que chamamos de regularização $L_2$, adicionamos o quadrado dos coeficientes à função custo:\n",
    "\n",
    "$$ FC = \\sum_{j=0}^{M} (\\hat{y}_j-y_j)^2 + \\alpha\\sum_{i=0}^{N} |\\theta_i|^2 $$\n",
    "\n",
    "O novo termo enrigece a solução, pois aumentos nos coeficientes serão penalizados, o que aumenta o viés, podendo ser utilizao para remediar o problema de *overfitting*.\n",
    "\n",
    "Porém, mais um parâmetro deve ser definido: o valor de $\\alpha$ que traz o melhor comprometimento viés-variância para a qualidade do modelo - maior $\\alpha$ implica maior viés, sendo $\\alpha=0$ o equivalente aos Mínimos Quadrados. Uma solução é a criação de uma terceira partição nos dados, além de treino e teste.\n",
    "\n",
    "Com a primeira achamos o melhor $\\Theta$ dado $\\alpha$, a segunda usamos para definir o $\\alpha$ mais adequado, e a terceira nos dá a medida da qualidade do modelo em si. "
   ]
  },
  {
   "cell_type": "markdown",
   "metadata": {},
   "source": [
    "### Métricas\n",
    "\n",
    "Para avaliar a qualidade do modelo, temos a nosso dispor algumas métricas. No caso de regressões, as mais comuns são:\n",
    "\n",
    "#### Variância explicada\n",
    "\n",
    "Como o nome diz, nos dá o quanto o modelo consegue explicar da variação que observamos nos dados:\n",
    "\n",
    "$$ VE(y,\\hat{y}) = 1-\\frac{Var(y-\\hat{y})}{Var(y)}$$\n",
    "\n",
    "#### Erro médio quadrado\n",
    "\n",
    "Média no quadrado da diferença entre real e estimado\n",
    "\n",
    "$$ EMQ = \\frac{\\sum_{j=1}^{M} (y-\\hat{y})^2}{M+1}$$\n",
    "\n",
    "#### Coeficiente de determinação - $R^2$\n",
    "\n",
    "Nos trás o quão bem amostras futuras devem ser estimadas\n",
    "\n",
    "$$ R^2=1-\\frac{\\sum_{j=0}^{M} (y-\\hat{y})^2}{\\sum_{j=0}^{M} (y-\\bar{y})^2}$$\n",
    "\n",
    "Notamos que $R^2$ é númericamente igual à variância explicada.\n",
    "\n",
    "### Implantação"
   ]
  },
  {
   "cell_type": "markdown",
   "metadata": {
    "collapsed": true
   },
   "source": [
    "Utilizaremos a implantação dos algoritmos da bilbioteca **sklearn**.\n",
    "\n",
    "Para mais informações, pode-se acessar o guia em https://scikit-learn.org/stable/user_guide.html"
   ]
  },
  {
   "cell_type": "code",
   "execution_count": 2,
   "metadata": {
    "collapsed": true
   },
   "outputs": [],
   "source": [
    "from sklearn.linear_model import LinearRegression, Ridge\n",
    "from sklearn.metrics import explained_variance_score, mean_squared_error, r2_score\n",
    "from sklearn.model_selection import train_test_split\n",
    "import pandas as pd"
   ]
  },
  {
   "cell_type": "code",
   "execution_count": 7,
   "metadata": {},
   "outputs": [],
   "source": [
    "df=pd.read_csv('reglin.csv')"
   ]
  },
  {
   "cell_type": "code",
   "execution_count": 8,
   "metadata": {},
   "outputs": [],
   "source": [
    "df=df.loc[:,['x','y']]"
   ]
  },
  {
   "cell_type": "code",
   "execution_count": 9,
   "metadata": {
    "collapsed": true
   },
   "outputs": [],
   "source": [
    "df.to_csv('reglin.csv', index=False)"
   ]
  },
  {
   "cell_type": "code",
   "execution_count": 10,
   "metadata": {
    "collapsed": true
   },
   "outputs": [],
   "source": [
    "df=pd.read_csv('reglin.csv')"
   ]
  },
  {
   "cell_type": "code",
   "execution_count": 11,
   "metadata": {
    "collapsed": true
   },
   "outputs": [],
   "source": [
    "p2=df\n",
    "p2['x2']=df.x**2\n",
    "p2['x0']=1"
   ]
  },
  {
   "cell_type": "code",
   "execution_count": 13,
   "metadata": {},
   "outputs": [
    {
     "data": {
      "text/html": [
       "<div>\n",
       "<style>\n",
       "    .dataframe thead tr:only-child th {\n",
       "        text-align: right;\n",
       "    }\n",
       "\n",
       "    .dataframe thead th {\n",
       "        text-align: left;\n",
       "    }\n",
       "\n",
       "    .dataframe tbody tr th {\n",
       "        vertical-align: top;\n",
       "    }\n",
       "</style>\n",
       "<table border=\"1\" class=\"dataframe\">\n",
       "  <thead>\n",
       "    <tr style=\"text-align: right;\">\n",
       "      <th></th>\n",
       "      <th>x</th>\n",
       "      <th>y</th>\n",
       "      <th>x2</th>\n",
       "      <th>x0</th>\n",
       "    </tr>\n",
       "  </thead>\n",
       "  <tbody>\n",
       "    <tr>\n",
       "      <th>0</th>\n",
       "      <td>5.03</td>\n",
       "      <td>3.75</td>\n",
       "      <td>25.3009</td>\n",
       "      <td>1</td>\n",
       "    </tr>\n",
       "    <tr>\n",
       "      <th>1</th>\n",
       "      <td>3.90</td>\n",
       "      <td>2.94</td>\n",
       "      <td>15.2100</td>\n",
       "      <td>1</td>\n",
       "    </tr>\n",
       "    <tr>\n",
       "      <th>2</th>\n",
       "      <td>3.07</td>\n",
       "      <td>4.99</td>\n",
       "      <td>9.4249</td>\n",
       "      <td>1</td>\n",
       "    </tr>\n",
       "    <tr>\n",
       "      <th>3</th>\n",
       "      <td>5.29</td>\n",
       "      <td>5.91</td>\n",
       "      <td>27.9841</td>\n",
       "      <td>1</td>\n",
       "    </tr>\n",
       "    <tr>\n",
       "      <th>4</th>\n",
       "      <td>1.35</td>\n",
       "      <td>3.01</td>\n",
       "      <td>1.8225</td>\n",
       "      <td>1</td>\n",
       "    </tr>\n",
       "    <tr>\n",
       "      <th>5</th>\n",
       "      <td>4.35</td>\n",
       "      <td>2.87</td>\n",
       "      <td>18.9225</td>\n",
       "      <td>1</td>\n",
       "    </tr>\n",
       "    <tr>\n",
       "      <th>6</th>\n",
       "      <td>1.09</td>\n",
       "      <td>1.17</td>\n",
       "      <td>1.1881</td>\n",
       "      <td>1</td>\n",
       "    </tr>\n",
       "    <tr>\n",
       "      <th>7</th>\n",
       "      <td>2.82</td>\n",
       "      <td>5.65</td>\n",
       "      <td>7.9524</td>\n",
       "      <td>1</td>\n",
       "    </tr>\n",
       "    <tr>\n",
       "      <th>8</th>\n",
       "      <td>2.16</td>\n",
       "      <td>5.71</td>\n",
       "      <td>4.6656</td>\n",
       "      <td>1</td>\n",
       "    </tr>\n",
       "    <tr>\n",
       "      <th>9</th>\n",
       "      <td>3.68</td>\n",
       "      <td>3.91</td>\n",
       "      <td>13.5424</td>\n",
       "      <td>1</td>\n",
       "    </tr>\n",
       "    <tr>\n",
       "      <th>10</th>\n",
       "      <td>5.95</td>\n",
       "      <td>12.24</td>\n",
       "      <td>35.4025</td>\n",
       "      <td>1</td>\n",
       "    </tr>\n",
       "    <tr>\n",
       "      <th>11</th>\n",
       "      <td>3.48</td>\n",
       "      <td>3.92</td>\n",
       "      <td>12.1104</td>\n",
       "      <td>1</td>\n",
       "    </tr>\n",
       "    <tr>\n",
       "      <th>12</th>\n",
       "      <td>4.58</td>\n",
       "      <td>3.09</td>\n",
       "      <td>20.9764</td>\n",
       "      <td>1</td>\n",
       "    </tr>\n",
       "    <tr>\n",
       "      <th>13</th>\n",
       "      <td>3.54</td>\n",
       "      <td>3.83</td>\n",
       "      <td>12.5316</td>\n",
       "      <td>1</td>\n",
       "    </tr>\n",
       "    <tr>\n",
       "      <th>14</th>\n",
       "      <td>1.02</td>\n",
       "      <td>-0.08</td>\n",
       "      <td>1.0404</td>\n",
       "      <td>1</td>\n",
       "    </tr>\n",
       "    <tr>\n",
       "      <th>15</th>\n",
       "      <td>1.52</td>\n",
       "      <td>4.12</td>\n",
       "      <td>2.3104</td>\n",
       "      <td>1</td>\n",
       "    </tr>\n",
       "    <tr>\n",
       "      <th>16</th>\n",
       "      <td>2.38</td>\n",
       "      <td>6.16</td>\n",
       "      <td>5.6644</td>\n",
       "      <td>1</td>\n",
       "    </tr>\n",
       "  </tbody>\n",
       "</table>\n",
       "</div>"
      ],
      "text/plain": [
       "       x      y       x2  x0\n",
       "0   5.03   3.75  25.3009   1\n",
       "1   3.90   2.94  15.2100   1\n",
       "2   3.07   4.99   9.4249   1\n",
       "3   5.29   5.91  27.9841   1\n",
       "4   1.35   3.01   1.8225   1\n",
       "5   4.35   2.87  18.9225   1\n",
       "6   1.09   1.17   1.1881   1\n",
       "7   2.82   5.65   7.9524   1\n",
       "8   2.16   5.71   4.6656   1\n",
       "9   3.68   3.91  13.5424   1\n",
       "10  5.95  12.24  35.4025   1\n",
       "11  3.48   3.92  12.1104   1\n",
       "12  4.58   3.09  20.9764   1\n",
       "13  3.54   3.83  12.5316   1\n",
       "14  1.02  -0.08   1.0404   1\n",
       "15  1.52   4.12   2.3104   1\n",
       "16  2.38   6.16   5.6644   1"
      ]
     },
     "execution_count": 13,
     "metadata": {},
     "output_type": "execute_result"
    }
   ],
   "source": [
    "p2"
   ]
  },
  {
   "cell_type": "code",
   "execution_count": 14,
   "metadata": {
    "collapsed": true
   },
   "outputs": [],
   "source": [
    "p3=p2\n",
    "p3['x3']=p2.x**3"
   ]
  },
  {
   "cell_type": "code",
   "execution_count": 15,
   "metadata": {
    "collapsed": true
   },
   "outputs": [],
   "source": [
    "p4=p3\n",
    "p4['x4']=p3.x**4\n",
    "p4['x5']=p3.x**5\n",
    "p4['x6']=p3.x**6\n",
    "p4['x7']=p3.x**7\n",
    "p4['x8']=p3.x**8"
   ]
  },
  {
   "cell_type": "code",
   "execution_count": 16,
   "metadata": {},
   "outputs": [
    {
     "data": {
      "text/html": [
       "<div>\n",
       "<style>\n",
       "    .dataframe thead tr:only-child th {\n",
       "        text-align: right;\n",
       "    }\n",
       "\n",
       "    .dataframe thead th {\n",
       "        text-align: left;\n",
       "    }\n",
       "\n",
       "    .dataframe tbody tr th {\n",
       "        vertical-align: top;\n",
       "    }\n",
       "</style>\n",
       "<table border=\"1\" class=\"dataframe\">\n",
       "  <thead>\n",
       "    <tr style=\"text-align: right;\">\n",
       "      <th></th>\n",
       "      <th>x</th>\n",
       "      <th>y</th>\n",
       "      <th>x2</th>\n",
       "      <th>x0</th>\n",
       "      <th>x3</th>\n",
       "      <th>x4</th>\n",
       "      <th>x5</th>\n",
       "      <th>x6</th>\n",
       "      <th>x7</th>\n",
       "      <th>x8</th>\n",
       "    </tr>\n",
       "  </thead>\n",
       "  <tbody>\n",
       "    <tr>\n",
       "      <th>0</th>\n",
       "      <td>5.03</td>\n",
       "      <td>3.75</td>\n",
       "      <td>25.3009</td>\n",
       "      <td>1</td>\n",
       "      <td>127.263527</td>\n",
       "      <td>640.135541</td>\n",
       "      <td>3219.881770</td>\n",
       "      <td>16196.005304</td>\n",
       "      <td>81465.906682</td>\n",
       "      <td>409773.510608</td>\n",
       "    </tr>\n",
       "    <tr>\n",
       "      <th>1</th>\n",
       "      <td>3.90</td>\n",
       "      <td>2.94</td>\n",
       "      <td>15.2100</td>\n",
       "      <td>1</td>\n",
       "      <td>59.319000</td>\n",
       "      <td>231.344100</td>\n",
       "      <td>902.241990</td>\n",
       "      <td>3518.743761</td>\n",
       "      <td>13723.100668</td>\n",
       "      <td>53520.092605</td>\n",
       "    </tr>\n",
       "    <tr>\n",
       "      <th>2</th>\n",
       "      <td>3.07</td>\n",
       "      <td>4.99</td>\n",
       "      <td>9.4249</td>\n",
       "      <td>1</td>\n",
       "      <td>28.934443</td>\n",
       "      <td>88.828740</td>\n",
       "      <td>272.704232</td>\n",
       "      <td>837.201992</td>\n",
       "      <td>2570.210115</td>\n",
       "      <td>7890.545052</td>\n",
       "    </tr>\n",
       "    <tr>\n",
       "      <th>3</th>\n",
       "      <td>5.29</td>\n",
       "      <td>5.91</td>\n",
       "      <td>27.9841</td>\n",
       "      <td>1</td>\n",
       "      <td>148.035889</td>\n",
       "      <td>783.109853</td>\n",
       "      <td>4142.651121</td>\n",
       "      <td>21914.624432</td>\n",
       "      <td>115928.363245</td>\n",
       "      <td>613261.041568</td>\n",
       "    </tr>\n",
       "    <tr>\n",
       "      <th>4</th>\n",
       "      <td>1.35</td>\n",
       "      <td>3.01</td>\n",
       "      <td>1.8225</td>\n",
       "      <td>1</td>\n",
       "      <td>2.460375</td>\n",
       "      <td>3.321506</td>\n",
       "      <td>4.484033</td>\n",
       "      <td>6.053445</td>\n",
       "      <td>8.172151</td>\n",
       "      <td>11.032404</td>\n",
       "    </tr>\n",
       "  </tbody>\n",
       "</table>\n",
       "</div>"
      ],
      "text/plain": [
       "      x     y       x2  x0          x3          x4           x5            x6  \\\n",
       "0  5.03  3.75  25.3009   1  127.263527  640.135541  3219.881770  16196.005304   \n",
       "1  3.90  2.94  15.2100   1   59.319000  231.344100   902.241990   3518.743761   \n",
       "2  3.07  4.99   9.4249   1   28.934443   88.828740   272.704232    837.201992   \n",
       "3  5.29  5.91  27.9841   1  148.035889  783.109853  4142.651121  21914.624432   \n",
       "4  1.35  3.01   1.8225   1    2.460375    3.321506     4.484033      6.053445   \n",
       "\n",
       "              x7             x8  \n",
       "0   81465.906682  409773.510608  \n",
       "1   13723.100668   53520.092605  \n",
       "2    2570.210115    7890.545052  \n",
       "3  115928.363245  613261.041568  \n",
       "4       8.172151      11.032404  "
      ]
     },
     "execution_count": 16,
     "metadata": {},
     "output_type": "execute_result"
    }
   ],
   "source": [
    "p4.head()"
   ]
  },
  {
   "cell_type": "code",
   "execution_count": 17,
   "metadata": {},
   "outputs": [],
   "source": [
    "y2=p2.y\n",
    "x2=p2.loc[:,['x0','x', 'x2']]\n",
    "\n",
    "y3=p3.y\n",
    "x3=p3.loc[:,['x0','x', 'x2', 'x3']]\n",
    "\n",
    "y4=p4.y\n",
    "x4=p4.loc[:,['x0','x', 'x2','x8']]"
   ]
  },
  {
   "cell_type": "code",
   "execution_count": 18,
   "metadata": {
    "collapsed": true
   },
   "outputs": [],
   "source": [
    "ln2 = LinearRegression()\n",
    "ln3 = LinearRegression()\n",
    "ln4 = LinearRegression()"
   ]
  },
  {
   "cell_type": "code",
   "execution_count": 19,
   "metadata": {
    "collapsed": true
   },
   "outputs": [],
   "source": [
    "x2tr, x2tt, y2tr, y2tt = train_test_split(x2, y2, test_size=0.33, random_state=42)\n",
    "x3tr, x3tt, y3tr, y3tt = train_test_split(x3, y3, test_size=0.33, random_state=42)\n",
    "x4tr, x4tt, y4tr, y4tt = train_test_split(x4, y4, test_size=0.33, random_state=42)"
   ]
  },
  {
   "cell_type": "code",
   "execution_count": 20,
   "metadata": {},
   "outputs": [
    {
     "name": "stdout",
     "output_type": "stream",
     "text": [
      "\n",
      "x2: Tr  0.4617531640577267 Tt  -2.312282247551737\n",
      "\n",
      "x3: Tr  0.9975783415803265 Tt  0.9199891296287737\n",
      "\n",
      "x4: Tr  0.9395869193493521 Tt  0.5059469417027891\n"
     ]
    }
   ],
   "source": [
    "ln2.fit(x2tr, y2tr)\n",
    "ln3.fit(x3tr, y3tr)\n",
    "ln4.fit(x4tr, y4tr)\n",
    "\n",
    "yp2=ln2.predict(x2tt)\n",
    "yp3=ln3.predict(x3tt)\n",
    "yp4=ln4.predict(x4tt)\n",
    "\n",
    "yt2=ln2.predict(x2tr)\n",
    "yt3=ln3.predict(x3tr)\n",
    "yt4=ln4.predict(x4tr)\n",
    "\n",
    "r12=r2_score(y2tr, yt2)\n",
    "r13=r2_score(y3tr, yt3)\n",
    "r14=r2_score(y4tr, yt4)\n",
    "\n",
    "r22=r2_score(y2tt, yp2)\n",
    "r23=r2_score(y3tt, yp3)\n",
    "r24=r2_score(y4tt, yp4)\n",
    "\n",
    "print('\\nx2: Tr ', r12, 'Tt ', r22)\n",
    "print('\\nx3: Tr ', r13, 'Tt ', r23)\n",
    "print('\\nx4: Tr ', r14, 'Tt ', r24)"
   ]
  },
  {
   "cell_type": "markdown",
   "metadata": {
    "collapsed": true
   },
   "source": [
    "x2: Underfitting\n",
    "x3: Razoável\n",
    "x4: Overfitting"
   ]
  },
  {
   "cell_type": "code",
   "execution_count": null,
   "metadata": {
    "collapsed": true
   },
   "outputs": [],
   "source": []
  }
 ],
 "metadata": {
  "kernelspec": {
   "display_name": "Python 3",
   "language": "python",
   "name": "python3"
  },
  "language_info": {
   "codemirror_mode": {
    "name": "ipython",
    "version": 3
   },
   "file_extension": ".py",
   "mimetype": "text/x-python",
   "name": "python",
   "nbconvert_exporter": "python",
   "pygments_lexer": "ipython3",
   "version": "3.6.8"
  }
 },
 "nbformat": 4,
 "nbformat_minor": 2
}
