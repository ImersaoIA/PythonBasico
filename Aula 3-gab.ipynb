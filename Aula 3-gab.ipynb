{
 "cells": [
  {
   "cell_type": "markdown",
   "metadata": {},
   "source": [
    "# Machine Learning"
   ]
  },
  {
   "cell_type": "markdown",
   "metadata": {},
   "source": [
    "<img src=ml_class.png>"
   ]
  },
  {
   "cell_type": "markdown",
   "metadata": {},
   "source": [
    "Basicamente, *machine learning*- ou  aprendizado de máquina - é o estudo que permite automatizar uma tarefa sem a intervenção direta de um humano, usando modelos para extrair as informações de bases de dados.\n",
    "\n",
    "No jargão, o modelo \"treina\" com base nos dados de entrada, e depois \"prevê\" resultados a medida que encontra novas situações.\n",
    "\n",
    "Os modelos podem ser:\n",
    "\n",
    "- **Supervisionados**: se o treino é realizado com a disponibilidade de variáveis respostas da base de treino\n",
    "- **Não-supervisionados**: se o próprio algortimo é capaz de extrair as relações relevantes e inferir a variável resposta. Geralmente utilizado em clusterização"
   ]
  },
  {
   "cell_type": "code",
   "execution_count": 1,
   "metadata": {},
   "outputs": [],
   "source": [
    "import pandas as pd\n",
    "import matplotlib.pyplot as plt\n",
    "import seaborn as sns\n",
    "plt.ion()\n",
    "%matplotlib inline"
   ]
  },
  {
   "cell_type": "markdown",
   "metadata": {},
   "source": [
    "## Modelos e algoritmos\n",
    "\n",
    "Agora começamos algumas definições úteis\n",
    "\n",
    "- **Modelo**: entendemos aqui como a formulação matemática que relaciona as variáveis de entrada com a(s) variável(is) de saída. Por exemplo, usaremos mais tarde o modelo $Y = \\omega_0 + \\omega_1 X$, onde X é uma matriz nxm com n pontos de m variáveis.\n",
    "- **Algoritmo**: o processo matemático e estatítico usado para adequar - *fit* - o modelo aos dados.\n",
    "- **Métrica de sucesso**: índice que será usado na avaliação da qualidade do resultado. Depende do modelo utilizado\n",
    "- **Preprocessamento, ou *data prep***: preparação da base de dados para uso no algoritmo (selecionar/extrair variáveis, tratar valores faltantes, etc)"
   ]
  },
  {
   "cell_type": "markdown",
   "metadata": {},
   "source": [
    "## *Overfitting* e *Underfitting*\n",
    "\n",
    "Dois fenômenos, totalmente opostos e igualmente desastrosos, podem ocorrer aos se realizar o *fit* do modelo.\n",
    "\n",
    "- ***Overfitting***: quando o modelo acaba por se adequar *demais* dos dados de treino, como se o algortimo tivesse decorado que tal entrada tem tal saída. Resultados podem estar longe da realidade para pontos não utilizados no *fit*. Dizemos que o modelo tem alta **variância**.\n",
    "- ***Underfitting***: pelo contrário, quando o modelo quase não se adequa aos dados de treino. Dizemos que tem alto **viés**, pois apesar das informações apresentadas, pouco concede"
   ]
  },
  {
   "cell_type": "markdown",
   "metadata": {},
   "source": [
    "<img src=over_under.png>"
   ]
  },
  {
   "cell_type": "markdown",
   "metadata": {},
   "source": [
    "### Validação Cruzada\n",
    "\n",
    "Uma maneira de contornar os problemas de *over* e *underfitting* é, em primeiro lugar, separar os dados em dois tipos: para treino e para teste. Assim temos maior controle quanto a qualidade do modelo nesse sentido.\n",
    "\n",
    "#### *Overfitting*:\n",
    "\n",
    "- **Característica**: Boa performance no *set* de treino, baixa no de teste.\n",
    "- **Causa**: muitas variáveis, modelo muito complexo\n",
    "- **Solução**: reduzir número de variáveis, regularização\\*, mais pontos\n",
    "\n",
    "#### *Underfitting*\n",
    "\n",
    "- **Característica**: Baixa performance tanto no *set* de treino quanto no de teste\n",
    "- **Causa**: modelo simples demais, muito rígido (regularização\\*)\n",
    "- **Solução**: mais variáveis"
   ]
  },
  {
   "cell_type": "markdown",
   "metadata": {},
   "source": [
    "### *Feature Selection*\n",
    "\n",
    "É importante, então, decidir quais informações valem de fato a pena serem usadas no modelo\n",
    "\n",
    "Algumas formas principais de selecionar as variáveis:\n",
    "\n",
    "#### Filtro\n",
    "\n",
    "Seleciona variáveis com base na relação com a variável resposta. Independe do modelo\n",
    "\n",
    "<img src='filter.png'>\n",
    "\n",
    "#### Wrapper\n",
    "\n",
    "Utiliza o próprio modelo para determinar a importância das variáveis.\n",
    "\n",
    "<img src='wrapper.png'>\n",
    "\n",
    "#### Embedded\n",
    "\n",
    "Utiliza, além do modelo em si, a sua performance\n",
    "\n",
    "<img src='embedded.png'>\n",
    "\n"
   ]
  },
  {
   "cell_type": "markdown",
   "metadata": {},
   "source": [
    "## Regressão Linear\n",
    "<br>\n",
    "<br>\n",
    "<img src=lin_reg.png width=400>"
   ]
  },
  {
   "cell_type": "markdown",
   "metadata": {},
   "source": [
    "### Formulação\n",
    "\n",
    "Na regressão linear, representamos a relação entre as variáveis independentes e depentendes no seguinte modelo:\n",
    "\n",
    "$$y = \\theta_0 + \\theta_1x_1 + \\theta_2x_2 + ... + \\theta_nx_n + \\epsilon$$\n",
    "\n",
    "Ou, de forma matricial\n",
    "\n",
    "$$ y = \\Theta^{\\it{T}}X + \\epsilon$$\n",
    "\n",
    "Onde $\\Theta^{\\it{T}} = [\\theta_0\\hspace{1.5mm}\\theta_1 ... \\theta_n]\\hspace{1mm}$ e $\\hspace{1mm}X = [1\\hspace{1.5mm}x_1 ... x_n]^{\\it{T}}$, e $\\epsilon$ é o erro, que admitimos ter distribuição normal de média 0.\n",
    "\n",
    "Nota-se que o termo **linear** se refere à relação entre os coeficientes. Sendo assim, o modelo $ y = a_1x_1 +a_2x_1^2+ a_3\\log{x_1}$ é linear, pois basta substituir $x_2=x_1^2\\hspace{1mm}$ e $\\hspace{1mm}x_3=\\log{x_1}$\n",
    "\n",
    "#### Algoritmos\n",
    "\n",
    "Como definimos anteriormente, já temos o modelo, agora falta definir como encontrar os coeficientes que mais adequam esse modelo aos nossos dados. Como estamos falando de **modelos supervisionados**, basicamente cada algoritmo tentará minimizar uma **função custo**, que mensiona o quanto os pontos estimados $\\hat{y}$ estão divergentes dos pontos reais $y$.\n",
    "\n",
    "##### Mínimos Quadrados\n",
    "\n",
    "O mais simples dos algortimos, tem como função de custo a soma do quadrado das diferenças entre real e estimado, ou seja:\n",
    "\n",
    "$$ FC = \\sum_{j=0}^{M} (\\hat{y}_j-y_j)^2 $$\n",
    "\n",
    "Como consequência, o algoritmo se torna relativamente sensível a *outliers*, pontos que por acaso de distanciam do comportamento normal, já que o custo cresce com o quadrado da distância.\n",
    "\n",
    "\n",
    "\n",
    "##### Ridge - Regularização $L_2$\n",
    "\n",
    "A regularização tem por objetivo limitar a exploração do algoritmo quanto ao espaço de soluções possíveis. No caso do que chamamos de regularização $L_2$, adicionamos o quadrado dos coeficientes à função custo:\n",
    "\n",
    "$$ FC = \\sum_{j=0}^{M} (\\hat{y}_j-y_j)^2 + \\alpha\\sum_{i=0}^{N} |\\theta_i|^2 $$\n",
    "\n",
    "O novo termo enrigece a solução, pois aumentos nos coeficientes serão penalizados, o que aumenta o viés, podendo ser utilizao para remediar o problema de *overfitting*.\n",
    "\n",
    "Porém, mais um parâmetro deve ser definido: o valor de $\\alpha$ que traz o melhor comprometimento viés-variância para a qualidade do modelo - maior $\\alpha$ implica maior viés, sendo $\\alpha=0$ o equivalente aos Mínimos Quadrados. Uma solução é a criação de uma terceira partição nos dados, além de treino e teste.\n",
    "\n",
    "Com a primeira achamos o melhor $\\Theta$ dado $\\alpha$, a segunda usamos para definir o $\\alpha$ mais adequado, e a terceira nos dá a medida da qualidade do modelo em si. \n",
    "\n",
    "\n",
    "\n",
    "##### Lasso - Regularização $L_1$\n",
    "\n",
    "De forma semelhante ao **Ridge**, utiliza uma penalidade para os valores dos coeficientes, mas com a norma $l_1$. Sendo assim, este algoritmo costuma achar soluções em que os coeficientes das variáveis menos importantes são zerados. É comum usá-lo para selecionar variáveis.\n",
    "\n",
    "$$ FC = \\sum_{j=0}^{M} (\\hat{y}_j-y_j)^2 + \\alpha\\sum_{i=0}^{N} |\\theta_i| $$\n",
    "\n",
    "Mesmas observações sobre o novo parâmetro $\\alpha$ no algoritmo anterior.\n",
    "<br>\n",
    "<img src='L1_L2.png' width=500>"
   ]
  },
  {
   "cell_type": "code",
   "execution_count": 36,
   "metadata": {},
   "outputs": [],
   "source": [
    "from sklearn.datasets import make_regression\n",
    "\n",
    "X, y = make_regression(n_samples=1000, n_features=10, n_informative=7, noise=40, n_targets=1, random_state=33)"
   ]
  },
  {
   "cell_type": "code",
   "execution_count": 40,
   "metadata": {},
   "outputs": [],
   "source": [
    "import pandas as pd\n",
    "import numpy as np\n",
    "\n",
    "dfx = pd.DataFrame(X, columns=['x1', 'x2', 'x3', 'x4', 'x5', 'x6', 'x7', 'x8', 'x9', 'x10'])\n",
    "dfy = pd.DataFrame(y, columns=['y'])\n",
    "df  = pd.concat([dfx, dfy], axis=1)"
   ]
  },
  {
   "cell_type": "code",
   "execution_count": 41,
   "metadata": {},
   "outputs": [
    {
     "data": {
      "text/plain": [
       "<matplotlib.axes._subplots.AxesSubplot at 0x1a1effdba8>"
      ]
     },
     "execution_count": 41,
     "metadata": {},
     "output_type": "execute_result"
    },
    {
     "data": {
      "image/png": "[encoded data removed]",
      "text/plain": [
       "<Figure size 720x720 with 2 Axes>"
      ]
     },
     "metadata": {
      "needs_background": "light"
     },
     "output_type": "display_data"
    }
   ],
   "source": [
    "## Filtro\n",
    "\n",
    "plt.figure(figsize=(10,10))\n",
    "corr = df.corr()\n",
    "sns.heatmap(corr, annot=True, vmin=-0.5, vmax=1, cmap=\"YlGnBu\")"
   ]
  },
  {
   "cell_type": "code",
   "execution_count": 55,
   "metadata": {},
   "outputs": [
    {
     "name": "stdout",
     "output_type": "stream",
     "text": [
      "Número ótimo de variáveis: 7\n",
      "Score com 7 variáveis: 0.917878\n",
      "Index(['x2', 'x3', 'x4', 'x6', 'x8', 'x9', 'x10'], dtype='object')\n"
     ]
    }
   ],
   "source": [
    "## Wrapper\n",
    "\n",
    "from sklearn.linear_model import LinearRegression\n",
    "from sklearn.feature_selection import RFE\n",
    "from sklearn.model_selection import train_test_split\n",
    "\n",
    "#no of features\n",
    "nof_list=np.arange(1,13)            \n",
    "high_score=0\n",
    "#Variable to store the optimum features\n",
    "nof=0           \n",
    "score_list =[]\n",
    "for n in range(len(nof_list)):\n",
    "    X_train, X_test, y_train, y_test = train_test_split(X,y, test_size = 0.3, random_state = 0)\n",
    "    model = LinearRegression()\n",
    "    rfe = RFE(model,nof_list[n])\n",
    "    X_train_rfe = rfe.fit_transform(X_train,y_train)\n",
    "    X_test_rfe = rfe.transform(X_test)\n",
    "    model.fit(X_train_rfe,y_train)\n",
    "    score = model.score(X_test_rfe,y_test)\n",
    "    score_list.append(score)\n",
    "    if(score>high_score):\n",
    "        high_score = score\n",
    "        nof = nof_list[n]\n",
    "        temp = pd.Series(rfe.support_,index = dfx.columns)\n",
    "        \n",
    "print(\"Número ótimo de variáveis: %d\" %nof)\n",
    "print(\"Score com %d variáveis: %f\" % (nof, high_score))\n",
    "\n",
    "selected_features_rfe = temp[temp==True].index\n",
    "print(selected_features_rfe)"
   ]
  },
  {
   "cell_type": "code",
   "execution_count": null,
   "metadata": {},
   "outputs": [],
   "source": []
  },
  {
   "cell_type": "code",
   "execution_count": 51,
   "metadata": {},
   "outputs": [
    {
     "name": "stdout",
     "output_type": "stream",
     "text": [
      "Melhor alfa usando LassoCV: 0.677833\n",
      "Melhor score usando LassoCV: 0.922833\n"
     ]
    }
   ],
   "source": [
    "## Embedded\n",
    "\n",
    "from sklearn.linear_model import LassoCV\n",
    "\n",
    "reg = LassoCV(cv=3)\n",
    "reg.fit(X, y)\n",
    "print(\"Melhor alfa usando LassoCV: %f\" % reg.alpha_)\n",
    "print(\"Melhor score usando LassoCV: %f\" %reg.score(X,y))\n",
    "coef = pd.Series(reg.coef_, index = dfx.columns)"
   ]
  },
  {
   "cell_type": "code",
   "execution_count": 53,
   "metadata": {},
   "outputs": [
    {
     "name": "stdout",
     "output_type": "stream",
     "text": [
      "Lasso escolheu 7 variáveis e eliminou outras 3 variáveis\n"
     ]
    }
   ],
   "source": [
    "print(\"Lasso escolheu \" + str(sum(coef != 0)) + \" variáveis e eliminou outras \" +  str(sum(coef == 0)) + \" variáveis\")"
   ]
  },
  {
   "cell_type": "code",
   "execution_count": 52,
   "metadata": {},
   "outputs": [
    {
     "data": {
      "text/plain": [
       "Text(0.5, 1.0, 'Importância das variáveis usando Lasso')"
      ]
     },
     "execution_count": 52,
     "metadata": {},
     "output_type": "execute_result"
    },
    {
     "data": {
      "image/png": "[encoded data removed]",
      "text/plain": [
       "<Figure size 432x288 with 1 Axes>"
      ]
     },
     "metadata": {
      "needs_background": "light"
     },
     "output_type": "display_data"
    }
   ],
   "source": [
    "imp_coef = coef.sort_values()\n",
    "import matplotlib\n",
    "#matplotlib.rcParams['figure.figsize'] = (8.0, 10.0)\n",
    "imp_coef.plot(kind = \"barh\")\n",
    "plt.title(\"Importância das variáveis usando Lasso\")"
   ]
  },
  {
   "cell_type": "markdown",
   "metadata": {},
   "source": [
    "### Padronização\n",
    "\n",
    "Para evitar que variáveis com maior escala dominem a função custo, dado que uma variação nelas influenciariam mais o resultado, é necessário padronizar a escala de todos os *inputs* numéricos.\n",
    "\n",
    "Isso pode ser feito subtraindo o valor mínimo e dividindo pelo intervalo de variação:\n",
    "\n",
    "$$ x_p = \\frac{x - x_{mín}}{x_{máx} - x_{mín}}$$\n",
    "\n",
    "Ou subtraindo o valor médio e dividindo pela variância:\n",
    "\n",
    "$$ x_n = \\frac{x - \\bar{x}}{s_x}$$"
   ]
  },
  {
   "cell_type": "code",
   "execution_count": 59,
   "metadata": {},
   "outputs": [],
   "source": [
    "from sklearn.preprocessing import StandardScaler\n",
    "\n",
    "norm = StandardScaler()\n",
    "\n",
    "Xn = norm.fit_transform(X)\n",
    "\n",
    "dfxn = pd.DataFrame(Xn, columns=['x1', 'x2', 'x3', 'x4', 'x5', 'x6', 'x7', 'x8', 'x9', 'x10'])b"
   ]
  },
  {
   "cell_type": "code",
   "execution_count": 60,
   "metadata": {
    "scrolled": true
   },
   "outputs": [
    {
     "data": {
      "text/html": [
       "<div>\n",
       "<style scoped>\n",
       "    .dataframe tbody tr th:only-of-type {\n",
       "        vertical-align: middle;\n",
       "    }\n",
       "\n",
       "    .dataframe tbody tr th {\n",
       "        vertical-align: top;\n",
       "    }\n",
       "\n",
       "    .dataframe thead th {\n",
       "        text-align: right;\n",
       "    }\n",
       "</style>\n",
       "<table border=\"1\" class=\"dataframe\">\n",
       "  <thead>\n",
       "    <tr style=\"text-align: right;\">\n",
       "      <th></th>\n",
       "      <th>x1</th>\n",
       "      <th>x2</th>\n",
       "      <th>x3</th>\n",
       "      <th>x4</th>\n",
       "      <th>x5</th>\n",
       "      <th>x6</th>\n",
       "      <th>x7</th>\n",
       "      <th>x8</th>\n",
       "      <th>x9</th>\n",
       "      <th>x10</th>\n",
       "    </tr>\n",
       "  </thead>\n",
       "  <tbody>\n",
       "    <tr>\n",
       "      <th>0</th>\n",
       "      <td>-1.056920</td>\n",
       "      <td>-0.672073</td>\n",
       "      <td>-0.960083</td>\n",
       "      <td>0.252798</td>\n",
       "      <td>0.423360</td>\n",
       "      <td>-0.857306</td>\n",
       "      <td>1.108191</td>\n",
       "      <td>-0.085659</td>\n",
       "      <td>0.746253</td>\n",
       "      <td>-1.771030</td>\n",
       "    </tr>\n",
       "    <tr>\n",
       "      <th>1</th>\n",
       "      <td>1.492630</td>\n",
       "      <td>-0.683020</td>\n",
       "      <td>1.661359</td>\n",
       "      <td>-1.465034</td>\n",
       "      <td>2.416016</td>\n",
       "      <td>1.237280</td>\n",
       "      <td>1.256834</td>\n",
       "      <td>-0.752995</td>\n",
       "      <td>-0.103979</td>\n",
       "      <td>0.154984</td>\n",
       "    </tr>\n",
       "    <tr>\n",
       "      <th>2</th>\n",
       "      <td>-0.598440</td>\n",
       "      <td>-0.539051</td>\n",
       "      <td>-0.466137</td>\n",
       "      <td>1.551920</td>\n",
       "      <td>-1.143856</td>\n",
       "      <td>0.489765</td>\n",
       "      <td>-0.248254</td>\n",
       "      <td>-0.613308</td>\n",
       "      <td>1.427414</td>\n",
       "      <td>0.088667</td>\n",
       "    </tr>\n",
       "    <tr>\n",
       "      <th>3</th>\n",
       "      <td>-0.388458</td>\n",
       "      <td>-0.262189</td>\n",
       "      <td>-0.500926</td>\n",
       "      <td>-1.558579</td>\n",
       "      <td>0.888650</td>\n",
       "      <td>-1.315361</td>\n",
       "      <td>1.244888</td>\n",
       "      <td>-2.056838</td>\n",
       "      <td>0.304610</td>\n",
       "      <td>0.109365</td>\n",
       "    </tr>\n",
       "    <tr>\n",
       "      <th>4</th>\n",
       "      <td>-0.290152</td>\n",
       "      <td>2.833278</td>\n",
       "      <td>0.958522</td>\n",
       "      <td>-0.401913</td>\n",
       "      <td>-0.143101</td>\n",
       "      <td>-1.779779</td>\n",
       "      <td>0.167467</td>\n",
       "      <td>0.229248</td>\n",
       "      <td>0.549052</td>\n",
       "      <td>-0.265142</td>\n",
       "    </tr>\n",
       "  </tbody>\n",
       "</table>\n",
       "</div>"
      ],
      "text/plain": [
       "         x1        x2        x3        x4        x5        x6        x7  \\\n",
       "0 -1.056920 -0.672073 -0.960083  0.252798  0.423360 -0.857306  1.108191   \n",
       "1  1.492630 -0.683020  1.661359 -1.465034  2.416016  1.237280  1.256834   \n",
       "2 -0.598440 -0.539051 -0.466137  1.551920 -1.143856  0.489765 -0.248254   \n",
       "3 -0.388458 -0.262189 -0.500926 -1.558579  0.888650 -1.315361  1.244888   \n",
       "4 -0.290152  2.833278  0.958522 -0.401913 -0.143101 -1.779779  0.167467   \n",
       "\n",
       "         x8        x9       x10  \n",
       "0 -0.085659  0.746253 -1.771030  \n",
       "1 -0.752995 -0.103979  0.154984  \n",
       "2 -0.613308  1.427414  0.088667  \n",
       "3 -2.056838  0.304610  0.109365  \n",
       "4  0.229248  0.549052 -0.265142  "
      ]
     },
     "execution_count": 60,
     "metadata": {},
     "output_type": "execute_result"
    }
   ],
   "source": [
    "dfx.head()"
   ]
  },
  {
   "cell_type": "code",
   "execution_count": 61,
   "metadata": {},
   "outputs": [
    {
     "data": {
      "text/html": [
       "<div>\n",
       "<style scoped>\n",
       "    .dataframe tbody tr th:only-of-type {\n",
       "        vertical-align: middle;\n",
       "    }\n",
       "\n",
       "    .dataframe tbody tr th {\n",
       "        vertical-align: top;\n",
       "    }\n",
       "\n",
       "    .dataframe thead th {\n",
       "        text-align: right;\n",
       "    }\n",
       "</style>\n",
       "<table border=\"1\" class=\"dataframe\">\n",
       "  <thead>\n",
       "    <tr style=\"text-align: right;\">\n",
       "      <th></th>\n",
       "      <th>x1</th>\n",
       "      <th>x2</th>\n",
       "      <th>x3</th>\n",
       "      <th>x4</th>\n",
       "      <th>x5</th>\n",
       "      <th>x6</th>\n",
       "      <th>x7</th>\n",
       "      <th>x8</th>\n",
       "      <th>x9</th>\n",
       "      <th>x10</th>\n",
       "    </tr>\n",
       "  </thead>\n",
       "  <tbody>\n",
       "    <tr>\n",
       "      <th>0</th>\n",
       "      <td>-1.024396</td>\n",
       "      <td>-0.639674</td>\n",
       "      <td>-0.995153</td>\n",
       "      <td>0.225984</td>\n",
       "      <td>0.449317</td>\n",
       "      <td>-0.866460</td>\n",
       "      <td>1.079429</td>\n",
       "      <td>-0.045189</td>\n",
       "      <td>0.778596</td>\n",
       "      <td>-1.796972</td>\n",
       "    </tr>\n",
       "    <tr>\n",
       "      <th>1</th>\n",
       "      <td>1.437607</td>\n",
       "      <td>-0.650542</td>\n",
       "      <td>1.682608</td>\n",
       "      <td>-1.510252</td>\n",
       "      <td>2.415287</td>\n",
       "      <td>1.182316</td>\n",
       "      <td>1.231581</td>\n",
       "      <td>-0.716404</td>\n",
       "      <td>-0.072652</td>\n",
       "      <td>0.126715</td>\n",
       "    </tr>\n",
       "    <tr>\n",
       "      <th>2</th>\n",
       "      <td>-0.581660</td>\n",
       "      <td>-0.507613</td>\n",
       "      <td>-0.490595</td>\n",
       "      <td>1.539024</td>\n",
       "      <td>-1.096911</td>\n",
       "      <td>0.451150</td>\n",
       "      <td>-0.309039</td>\n",
       "      <td>-0.575905</td>\n",
       "      <td>1.460572</td>\n",
       "      <td>0.060478</td>\n",
       "    </tr>\n",
       "    <tr>\n",
       "      <th>3</th>\n",
       "      <td>-0.378888</td>\n",
       "      <td>-0.232750</td>\n",
       "      <td>-0.526131</td>\n",
       "      <td>-1.604799</td>\n",
       "      <td>0.908376</td>\n",
       "      <td>-1.314497</td>\n",
       "      <td>1.219353</td>\n",
       "      <td>-2.027826</td>\n",
       "      <td>0.336425</td>\n",
       "      <td>0.081152</td>\n",
       "    </tr>\n",
       "    <tr>\n",
       "      <th>4</th>\n",
       "      <td>-0.283958</td>\n",
       "      <td>2.840361</td>\n",
       "      <td>0.964670</td>\n",
       "      <td>-0.435741</td>\n",
       "      <td>-0.109558</td>\n",
       "      <td>-1.768757</td>\n",
       "      <td>0.116496</td>\n",
       "      <td>0.271548</td>\n",
       "      <td>0.581159</td>\n",
       "      <td>-0.292904</td>\n",
       "    </tr>\n",
       "  </tbody>\n",
       "</table>\n",
       "</div>"
      ],
      "text/plain": [
       "         x1        x2        x3        x4        x5        x6        x7  \\\n",
       "0 -1.024396 -0.639674 -0.995153  0.225984  0.449317 -0.866460  1.079429   \n",
       "1  1.437607 -0.650542  1.682608 -1.510252  2.415287  1.182316  1.231581   \n",
       "2 -0.581660 -0.507613 -0.490595  1.539024 -1.096911  0.451150 -0.309039   \n",
       "3 -0.378888 -0.232750 -0.526131 -1.604799  0.908376 -1.314497  1.219353   \n",
       "4 -0.283958  2.840361  0.964670 -0.435741 -0.109558 -1.768757  0.116496   \n",
       "\n",
       "         x8        x9       x10  \n",
       "0 -0.045189  0.778596 -1.796972  \n",
       "1 -0.716404 -0.072652  0.126715  \n",
       "2 -0.575905  1.460572  0.060478  \n",
       "3 -2.027826  0.336425  0.081152  \n",
       "4  0.271548  0.581159 -0.292904  "
      ]
     },
     "execution_count": 61,
     "metadata": {},
     "output_type": "execute_result"
    }
   ],
   "source": [
    "dfxn.head()"
   ]
  },
  {
   "cell_type": "markdown",
   "metadata": {},
   "source": [
    "### Métricas\n",
    "\n",
    "Para avaliar a qualidade do modelo, temos a nosso dispor algumas métricas. No caso de regressões, as mais comuns são:\n",
    "\n",
    "#### Variância explicada\n",
    "\n",
    "Como o nome diz, nos dá o quanto o modelo consegue explicar da variação que observamos nos dados:\n",
    "\n",
    "$$ VE(y,\\hat{y}) = 1-\\frac{Var(y-\\hat{y})}{Var(y)}$$\n",
    "\n",
    "#### Erro médio quadrado\n",
    "\n",
    "Média no quadrado da diferença entre real e estimado\n",
    "\n",
    "$$ EMQ = \\frac{\\sum_{j=1}^{M} (y-\\hat{y})^2}{M+1}$$\n",
    "\n",
    "#### Coeficiente de determinação - $R^2$\n",
    "\n",
    "Nos trás o quão bem amostras futuras devem ser estimadas\n",
    "\n",
    "$$ R^2=1-\\frac{\\sum_{j=0}^{M} (y-\\hat{y})^2}{\\sum_{j=0}^{M} (y-\\bar{y})^2}$$\n",
    "\n",
    "Notamos que $R^2$ é númericamente igual à variância explicada.\n",
    "\n",
    "#### R ajustado - $R_{adj}^2$ ou $\\bar{R^2}$\n",
    "\n",
    "O coeficiente de determinação $R^2$ tende a aumentar com a adição de variáveis, independentemente de sua relevância para o modelo. Sendo assim, ao se comparar soluções com número diferente de *inputs*, devemos usar o R ajustado, que tenta controlar esse efeito (M: número de pontos; N: número de variáveis): \n",
    "\n",
    "$$ \\bar{R^2}=1-(1-R^2)\\frac{M-1}{M-N-1}$$\n",
    "\n",
    "\n"
   ]
  },
  {
   "cell_type": "code",
   "execution_count": 67,
   "metadata": {},
   "outputs": [],
   "source": [
    "from sklearn.metrics import explained_variance_score, mean_squared_error, r2_score\n",
    "import numpy as np\n",
    "\n",
    "def r2_aj (y_true, y_pred, shape):\n",
    "    R2 = r2_score(y_true, y_pred)\n",
    "    ra = 1-(1-R2)*(shape[0]-1)/(shape[0]-shape[1]-1)\n",
    "    return ra\n",
    "    "
   ]
  },
  {
   "cell_type": "code",
   "execution_count": 75,
   "metadata": {},
   "outputs": [],
   "source": [
    "from sklearn.linear_model import LinearRegression, Ridge, Lasso\n",
    "\n",
    "ln = LinearRegression()\n",
    "rd = Ridge(alpha=0.5)\n",
    "ls = Lasso(alpha=0.5)"
   ]
  },
  {
   "cell_type": "code",
   "execution_count": 76,
   "metadata": {},
   "outputs": [
    {
     "name": "stdout",
     "output_type": "stream",
     "text": [
      "exp: 0.922981\n",
      "mse: 1618.080424\n",
      "r2: 0.922981\n",
      "r2a: 0.922202\n"
     ]
    }
   ],
   "source": [
    "## Regressão Linear\n",
    "\n",
    "\n",
    "ln.fit(X,y)\n",
    "y_ln = ln.predict(X)\n",
    "\n",
    "expl_ln = explained_variance_score(y, y_ln)\n",
    "mse_ln = mean_squared_error(y, y_ln)\n",
    "r2_ln = r2_score(y, y_ln)\n",
    "r2a_ln = r2_aj(y, y_ln, np.shape(X)) \n",
    "\n",
    "print('exp: %f' %expl_ln)\n",
    "print('mse: %f' %mse_ln)\n",
    "print('r2: %f' %r2_ln)\n",
    "print('r2a: %f' %r2a_ln)"
   ]
  },
  {
   "cell_type": "code",
   "execution_count": 77,
   "metadata": {},
   "outputs": [
    {
     "name": "stdout",
     "output_type": "stream",
     "text": [
      "exp: 0.922980\n",
      "mse: 1618.084765\n",
      "r2: 0.922980\n",
      "r2a: 0.922202\n"
     ]
    }
   ],
   "source": [
    "rd.fit(X,y)\n",
    "y_rd = rd.predict(X)\n",
    "\n",
    "expl_rd = explained_variance_score(y, y_rd)\n",
    "mse_rd = mean_squared_error(y, y_rd)\n",
    "r2_rd = r2_score(y, y_rd)\n",
    "r2a_rd = r2_aj(y, y_rd, np.shape(X)) \n",
    "\n",
    "print('exp: %f' %expl_rd)\n",
    "print('mse: %f' %mse_rd)\n",
    "print('r2: %f' %r2_rd)\n",
    "print('r2a: %f' %r2a_rd)"
   ]
  },
  {
   "cell_type": "code",
   "execution_count": 78,
   "metadata": {},
   "outputs": [
    {
     "name": "stdout",
     "output_type": "stream",
     "text": [
      "exp: 0.922898\n",
      "mse: 1619.823678\n",
      "r2: 0.922898\n",
      "r2a: 0.922118\n"
     ]
    }
   ],
   "source": [
    "ls.fit(X,y)\n",
    "y_ls = ls.predict(X)\n",
    "\n",
    "expl_ls = explained_variance_score(y, y_ls)\n",
    "mse_ls = mean_squared_error(y, y_ls)\n",
    "r2_ls = r2_score(y, y_ls)\n",
    "r2a_ls = r2_aj(y, y_ls, np.shape(X)) \n",
    "\n",
    "print('exp: %f' %expl_ls)\n",
    "print('mse: %f' %mse_ls)\n",
    "print('r2: %f' %r2_ls)\n",
    "print('r2a: %f' %r2a_ls)"
   ]
  },
  {
   "cell_type": "markdown",
   "metadata": {},
   "source": [
    "### Validação\n",
    "\n",
    "Durante a decisão de escolha do modleo, é preciso ter controle da qualidade do que está sendo gerado. Se dependermos somente dos dados com que o algoritmo está treinando, corremos risco de *overfitting*, com muito erro ao se extrapolar para dados além do treino.\n",
    "\n",
    "A solução mais simples é simular dados desconhecidos ao modelo, separando parte da base de treino, a ser usada somente na sua validação.\n",
    "\n",
    "\n",
    "#### Hold-out\n",
    "\n",
    "Método mais simples, dividem-se os dados históricos em *dataset* de treino e de validação. Apesar de se medir a qualidade do *fit* nos dados de treino, as decisões são tomadas com base na validação.\n",
    "\n",
    "<img src=holdout.png>\n",
    "\n",
    "#### Validação cruzada\n",
    "\n",
    "Uma desvantagem do *hold-out* é a limitação que traz em termos de quantidade de pontos em que o modelo será treinado e validado. Se aumentarmos os pontos de treino, teremos menos pontos de validação, e vice-versa.\n",
    "\n",
    "Como alternativa, podemos repetir a divisão treino-teste até passar por toda base de dados, efetuando a validação a cada passo. A performance geral do modelo é obtida da média da performance em cada divisão.\n",
    "\n",
    "<img src=kfold.png>\n",
    "\n",
    "#### Bootstrap (re-amostragem)\n",
    "\n",
    "Com o *bootstrap*, um novo *dataset* é criado a partir de amostragens aleatórias - com reposição - dos dados que já temos.\n",
    "\n",
    "Os dados históricos são entendidos como uma amostra da distribuição real dos dados, e o processo de *bootstrapping* procura recriar esse efeito.\n",
    "\n",
    "<img src=bootstrap.png>\n"
   ]
  },
  {
   "cell_type": "code",
   "execution_count": null,
   "metadata": {},
   "outputs": [],
   "source": []
  },
  {
   "cell_type": "code",
   "execution_count": null,
   "metadata": {},
   "outputs": [],
   "source": []
  },
  {
   "cell_type": "code",
   "execution_count": null,
   "metadata": {},
   "outputs": [],
   "source": []
  }
 ],
 "metadata": {
  "kernelspec": {
   "display_name": "Python 3",
   "language": "python",
   "name": "python3"
  },
  "language_info": {
   "codemirror_mode": {
    "name": "ipython",
    "version": 3
   },
   "file_extension": ".py",
   "mimetype": "text/x-python",
   "name": "python",
   "nbconvert_exporter": "python",
   "pygments_lexer": "ipython3",
   "version": "3.7.1"
  }
 },
 "nbformat": 4,
 "nbformat_minor": 2
}
