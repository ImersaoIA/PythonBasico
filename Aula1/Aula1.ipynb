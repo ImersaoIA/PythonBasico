{
 "cells": [
  {
   "cell_type": "markdown",
   "metadata": {},
   "source": [
    "# Noções básicas de Python"
   ]
  },
  {
   "cell_type": "markdown",
   "metadata": {},
   "source": [
    "## Importar bibliotecas\n",
    "\n",
    "É feito usando o comando **import** (a biblioteca deve estar instalada na máquina)"
   ]
  },
  {
   "cell_type": "code",
   "execution_count": 2,
   "metadata": {
    "collapsed": true
   },
   "outputs": [],
   "source": [
    "import pandas\n",
    "import numpy\n",
    "import matplotlib.pyplot"
   ]
  },
  {
   "cell_type": "markdown",
   "metadata": {},
   "source": [
    "Para facilitar, pode-se substituir o nome da biblioteca por um *alias"
   ]
  },
  {
   "cell_type": "code",
   "execution_count": 3,
   "metadata": {
    "collapsed": true
   },
   "outputs": [],
   "source": [
    "import pandas as pd\n",
    "import numpy as np\n",
    "import matplotlib.pyplot as plt"
   ]
  },
  {
   "cell_type": "markdown",
   "metadata": {},
   "source": [
    "Ao se importar bibliotecas com muitas funções, convém também selecionar especificamente o que vai ser usado"
   ]
  },
  {
   "cell_type": "code",
   "execution_count": 4,
   "metadata": {
    "collapsed": true
   },
   "outputs": [],
   "source": [
    "from sklearn.linear_model import LinearRegression"
   ]
  },
  {
   "cell_type": "markdown",
   "metadata": {
    "collapsed": true
   },
   "source": [
    "## Sintaxe\n",
    "\n",
    "### Variáveis\n",
    "\n",
    "Não é preciso declarar o tipo de variável: numérico, caracter, etc."
   ]
  },
  {
   "cell_type": "code",
   "execution_count": 5,
   "metadata": {
    "collapsed": true
   },
   "outputs": [],
   "source": [
    "num_hosp = 3\n",
    "description = '2 bedrooms in Gávea super cozy' # ou \"2 bedrooms in Gávea super cozy\""
   ]
  },
  {
   "cell_type": "code",
   "execution_count": 6,
   "metadata": {},
   "outputs": [
    {
     "data": {
      "text/plain": [
       "3"
      ]
     },
     "execution_count": 6,
     "metadata": {},
     "output_type": "execute_result"
    }
   ],
   "source": [
    "num_hosp"
   ]
  },
  {
   "cell_type": "code",
   "execution_count": 7,
   "metadata": {},
   "outputs": [
    {
     "data": {
      "text/plain": [
       "'2 bedrooms in Gávea super cozy'"
      ]
     },
     "execution_count": 7,
     "metadata": {},
     "output_type": "execute_result"
    }
   ],
   "source": [
    "description"
   ]
  },
  {
   "cell_type": "markdown",
   "metadata": {},
   "source": [
    "#### String (caracter)\n",
    "\n",
    "Strings são definidas com áspas - simples ou duplas -, e podem ser concatenadar com o operador  '+'"
   ]
  },
  {
   "cell_type": "code",
   "execution_count": 8,
   "metadata": {},
   "outputs": [
    {
     "name": "stdout",
     "output_type": "stream",
     "text": [
      "Olá, Roberto, você reservou um quarto para 2 pessoas durante 4 dias \n",
      "\n",
      "Boa estadia!\n"
     ]
    }
   ],
   "source": [
    "nome='Roberto'\n",
    "num_pes='2'\n",
    "num_dias='4'\n",
    "\n",
    "confirma=\"Olá, \"+nome+\", você reservou um quarto para \"+num_pes+\" pessoas durante \"+num_dias+\" dias \\n\\nBoa estadia!\"\n",
    "\n",
    "print(confirma)"
   ]
  },
  {
   "cell_type": "markdown",
   "metadata": {},
   "source": [
    "Nota: o caracter \"\\\" é usado para diferenciar caracteres especiais, por ex:\n",
    "    - \\n: nova linha\n",
    "    - \\\": áspas\n",
    "    - \\t: tab\n",
    "\n",
    "Para a barra invertida, usase a sequência \"\\\\\", ou, para ignorar toda a ocorrência, r\"\""
   ]
  },
  {
   "cell_type": "code",
   "execution_count": 9,
   "metadata": {},
   "outputs": [
    {
     "name": "stdout",
     "output_type": "stream",
     "text": [
      "\\ofertas\\carnaval\n",
      "\\agendamentos\\pendentes\n"
     ]
    }
   ],
   "source": [
    "caminho1=\"\\\\ofertas\\\\carnaval\"\n",
    "caminho2=r\"\\agendamentos\\pendentes\"\n",
    "\n",
    "print(caminho1)\n",
    "print(caminho2)"
   ]
  },
  {
   "cell_type": "markdown",
   "metadata": {},
   "source": [
    "#### Lists (listas/array)\n",
    "\n",
    "Listas são definidas com colchetes [ ], e são exatamente isso, listas de variáveis, não necessariamente do mesmo tipo.\n",
    "Para acessar um elemento, utiliza-se um índice, que em Python começa do 0, como na maioria das linguagens."
   ]
  },
  {
   "cell_type": "code",
   "execution_count": 10,
   "metadata": {
    "collapsed": true
   },
   "outputs": [],
   "source": [
    "rating = [3, 4, 3, 3, 5]\n",
    "interesses= ['praia', 'trilha', 'cultural']\n",
    "info=['Roberto', 'Arantes', 25, False]\n"
   ]
  },
  {
   "cell_type": "markdown",
   "metadata": {},
   "source": [
    "Comandos úteis são:\n",
    "    - sum(): soma\n",
    "    - len(): comprimento da lista - número de elementos\n",
    "    - in: checar pertencimento\n",
    "    - .extend: adiciona uma lista à outra\n",
    "    - +: concatena listas\n",
    "    - .append: adiciona elemento a uma lista\n",
    "    - sorted(): ordena os elementos de acordo com seu módulo"
   ]
  },
  {
   "cell_type": "code",
   "execution_count": 11,
   "metadata": {
    "collapsed": true
   },
   "outputs": [],
   "source": [
    "media=sum(rating)/len(rating) # 3.6\n",
    "compat = 'cachorro' in interesses # False\n",
    "nome_completo=info[0]+' '+info[1] # 'Roberto Arantes'"
   ]
  },
  {
   "cell_type": "markdown",
   "metadata": {
    "collapsed": true
   },
   "source": [
    "#### Tuples (tuplas)\n",
    "\n",
    "Tuplas são definidas com parênteses ( ), ou nada, e têm basicamente as mesmas propriedades das listas, porém não podem ser modificadas depois de declaradas."
   ]
  },
  {
   "cell_type": "code",
   "execution_count": 25,
   "metadata": {},
   "outputs": [
    {
     "name": "stdout",
     "output_type": "stream",
     "text": [
      "Não podemos modificar os ratings\n"
     ]
    }
   ],
   "source": [
    "ratings = 2, 3, 3, 4, 3\n",
    "\n",
    "try: \n",
    "    ratings[0] = 5\n",
    "except TypeError:\n",
    "    print('Não podemos modificar os ratings')"
   ]
  },
  {
   "cell_type": "markdown",
   "metadata": {},
   "source": [
    "Apesar disso, ainda podemos sobreescrever tuplas utilizando os mesmos nomes de variáveis"
   ]
  },
  {
   "cell_type": "code",
   "execution_count": 26,
   "metadata": {},
   "outputs": [
    {
     "name": "stdout",
     "output_type": "stream",
     "text": [
      "(5, 5, 5, 5, 5)\n"
     ]
    }
   ],
   "source": [
    "ratings =(5, 5, 5, 5, 5)\n",
    "print(ratings)"
   ]
  },
  {
   "cell_type": "markdown",
   "metadata": {},
   "source": [
    "#### Dicionários\n",
    "\n",
    "Dicionários são definidos com colchetes { }, e associa determinados valores a chaves, em vez de índices numéricos"
   ]
  },
  {
   "cell_type": "code",
   "execution_count": 28,
   "metadata": {
    "collapsed": true
   },
   "outputs": [],
   "source": [
    "info = {'nome': 'Roberto', 'sobrenome':'Arantes', 'idade': 26, 'alérgico': False }\n",
    "\n",
    "idade_hospede = info['idade']"
   ]
  },
  {
   "cell_type": "code",
   "execution_count": 1,
   "metadata": {
    "collapsed": true
   },
   "outputs": [],
   "source": [
    "infos = [{'nome': 'Roberto', 'sobrenome':'Arantes', 'idade': 26, 'alérgico': False },\n",
    "         {'nome': 'Mariana', 'sobrenome':'Dias', 'idade': 24, 'alérgico': True }]"
   ]
  },
  {
   "cell_type": "code",
   "execution_count": 4,
   "metadata": {},
   "outputs": [
    {
     "data": {
      "text/plain": [
       "'Bom dia, Roberto e Mariana!'"
      ]
     },
     "execution_count": 4,
     "metadata": {},
     "output_type": "execute_result"
    }
   ],
   "source": [
    "'Bom dia, '+infos[0]['nome']+' e '+infos[1]['nome']+'!'"
   ]
  },
  {
   "cell_type": "markdown",
   "metadata": {
    "collapsed": true
   },
   "source": [
    "### Controle de fluxo\n",
    "\n",
    "Como a maioria das linguagens, Python tem funções condicionais e de iteração, ou seja **if-else**, **while** e **for**.\n",
    "\n",
    "**Importante** A identação das linhas define o que está dentro ou fora dos comandos"
   ]
  },
  {
   "cell_type": "code",
   "execution_count": 7,
   "metadata": {},
   "outputs": [
    {
     "name": "stdout",
     "output_type": "stream",
     "text": [
      "Quarto 001 acima do preço máximo\n",
      "Quarto 002 dentro do preço máximo\n",
      "Quarto 003 dentro do preço máximo\n",
      "Quarto 004 acima do preço máximo\n",
      "Quarto 005 acima do preço máximo\n",
      "Quarto 006 dentro do preço máximo\n"
     ]
    }
   ],
   "source": [
    "vagas = [{'id': '001', 'preco': 300},\n",
    "         {'id': '002', 'preco': 200},\n",
    "         {'id': '003', 'preco': 100},\n",
    "         {'id': '004', 'preco': 250},\n",
    "         {'id': '005', 'preco': 400},\n",
    "         {'id': '006', 'preco': 150},]\n",
    "\n",
    "prec_max = 200\n",
    "\n",
    "for i in range(6):\n",
    "    if vagas[i]['preco']<=prec_max:\n",
    "        print('Quarto '+vagas[i]['id']+ ' dentro do preço máximo')\n",
    "    else:\n",
    "        print('Quarto '+vagas[i]['id']+ ' acima do preço máximo')"
   ]
  },
  {
   "cell_type": "markdown",
   "metadata": {},
   "source": [
    "Ou ainda"
   ]
  },
  {
   "cell_type": "code",
   "execution_count": 8,
   "metadata": {},
   "outputs": [
    {
     "name": "stdout",
     "output_type": "stream",
     "text": [
      "Quarto 001 acima do preço máximo\n",
      "Quarto 002 dentro do preço máximo\n",
      "Quarto 003 dentro do preço máximo\n",
      "Quarto 004 acima do preço máximo\n",
      "Quarto 005 acima do preço máximo\n",
      "Quarto 006 dentro do preço máximo\n"
     ]
    }
   ],
   "source": [
    "for quarto in vagas:\n",
    "    if quarto['preco']<=prec_max:\n",
    "        print('Quarto '+quarto['id']+ ' dentro do preço máximo')\n",
    "    else:\n",
    "        print('Quarto '+quarto['id']+ ' acima do preço máximo')"
   ]
  },
  {
   "cell_type": "markdown",
   "metadata": {},
   "source": [
    "### Pertencimento a listas\n",
    "\n",
    "Podemos ainda criar regras para pertencimento a listas de forma mais prática, aplicando filtros ou criando listas derivadas"
   ]
  },
  {
   "cell_type": "code",
   "execution_count": 11,
   "metadata": {},
   "outputs": [
    {
     "name": "stdout",
     "output_type": "stream",
     "text": [
      "[{'id': '002', 'preco': 200}, {'id': '003', 'preco': 100}, {'id': '006', 'preco': 150}]\n"
     ]
    }
   ],
   "source": [
    "vagasEmConta = [quarto for quarto in vagas if quarto['preco']<=prec_max]\n",
    "print(vagasEmConta)"
   ]
  },
  {
   "cell_type": "code",
   "execution_count": 12,
   "metadata": {},
   "outputs": [
    {
     "data": {
      "text/plain": [
       "['Quarto 002 dentro do preço máximo',\n",
       " 'Quarto 003 dentro do preço máximo',\n",
       " 'Quarto 006 dentro do preço máximo']"
      ]
     },
     "execution_count": 12,
     "metadata": {},
     "output_type": "execute_result"
    }
   ],
   "source": [
    "['Quarto '+quarto['id']+ ' dentro do preço máximo' for quarto in vagas if quarto['preco']<=prec_max]"
   ]
  },
  {
   "cell_type": "markdown",
   "metadata": {
    "collapsed": true
   },
   "source": [
    "## Pandas\n",
    "\n",
    "Pandas é uma biblioteca para manipulação de dados no Python. Ela disponibiliza estruturas e funções que facilitam consideravelmente o trabalho.\n",
    "\n",
    "Começamos importanto a biblioteca. Para facilitar, a chamamos de **pd**"
   ]
  },
  {
   "cell_type": "code",
   "execution_count": 1,
   "metadata": {
    "collapsed": true
   },
   "outputs": [],
   "source": [
    "import pandas as pd"
   ]
  },
  {
   "cell_type": "markdown",
   "metadata": {},
   "source": [
    "### Importar dados\n",
    "\n",
    "A forma mais comum de armazenamento de dados que utilizaremos será na forma de arquivo csv (separado por vírgula). Para carregá-los para seu código, usa-se a função **read_csv**\n",
    "\n",
    "pd.read_csv(< caminho do arquivo >, sep=',', header=0, names=None, index_col=None)\n",
    "\n",
    "sep = separador utilizado\n",
    "header = linha com o nome das colunas\n",
    "names = nomes das colunas. header=None\n",
    "index_col = coluna com o nome das linhas"
   ]
  },
  {
   "cell_type": "code",
   "execution_count": 2,
   "metadata": {
    "collapsed": true
   },
   "outputs": [],
   "source": [
    "srs_sem=pd.read_csv('series_sem_hd.csv')"
   ]
  },
  {
   "cell_type": "code",
   "execution_count": 4,
   "metadata": {},
   "outputs": [
    {
     "data": {
      "text/html": [
       "<div>\n",
       "<style>\n",
       "    .dataframe thead tr:only-child th {\n",
       "        text-align: right;\n",
       "    }\n",
       "\n",
       "    .dataframe thead th {\n",
       "        text-align: left;\n",
       "    }\n",
       "\n",
       "    .dataframe tbody tr th {\n",
       "        vertical-align: top;\n",
       "    }\n",
       "</style>\n",
       "<table border=\"1\" class=\"dataframe\">\n",
       "  <thead>\n",
       "    <tr style=\"text-align: right;\">\n",
       "      <th></th>\n",
       "      <th>Very Nice 2Br - Copacabana - WiFi</th>\n",
       "    </tr>\n",
       "  </thead>\n",
       "  <tbody>\n",
       "    <tr>\n",
       "      <th>0</th>\n",
       "      <td>Nice and cozy near Ipanema Beach</td>\n",
       "    </tr>\n",
       "    <tr>\n",
       "      <th>1</th>\n",
       "      <td>Beautiful Modern Decorated Studio in Copa</td>\n",
       "    </tr>\n",
       "    <tr>\n",
       "      <th>2</th>\n",
       "      <td>NICE &amp; COZY 1BDR - IPANEMA BEACH</td>\n",
       "    </tr>\n",
       "    <tr>\n",
       "      <th>3</th>\n",
       "      <td>Cosy flat close to Ipanema beach</td>\n",
       "    </tr>\n",
       "    <tr>\n",
       "      <th>4</th>\n",
       "      <td>COPACABANA SEA BREEZE  -  RIO</td>\n",
       "    </tr>\n",
       "  </tbody>\n",
       "</table>\n",
       "</div>"
      ],
      "text/plain": [
       "           Very Nice 2Br - Copacabana - WiFi\n",
       "0           Nice and cozy near Ipanema Beach\n",
       "1  Beautiful Modern Decorated Studio in Copa\n",
       "2           NICE & COZY 1BDR - IPANEMA BEACH\n",
       "3           Cosy flat close to Ipanema beach\n",
       "4              COPACABANA SEA BREEZE  -  RIO"
      ]
     },
     "execution_count": 4,
     "metadata": {},
     "output_type": "execute_result"
    }
   ],
   "source": [
    "srs_sem.head()"
   ]
  },
  {
   "cell_type": "code",
   "execution_count": 5,
   "metadata": {
    "collapsed": true
   },
   "outputs": [],
   "source": [
    "srs_sem2=pd.read_csv('series_sem_hd.csv', header=None, names=['name'])"
   ]
  },
  {
   "cell_type": "code",
   "execution_count": 6,
   "metadata": {},
   "outputs": [
    {
     "data": {
      "text/html": [
       "<div>\n",
       "<style>\n",
       "    .dataframe thead tr:only-child th {\n",
       "        text-align: right;\n",
       "    }\n",
       "\n",
       "    .dataframe thead th {\n",
       "        text-align: left;\n",
       "    }\n",
       "\n",
       "    .dataframe tbody tr th {\n",
       "        vertical-align: top;\n",
       "    }\n",
       "</style>\n",
       "<table border=\"1\" class=\"dataframe\">\n",
       "  <thead>\n",
       "    <tr style=\"text-align: right;\">\n",
       "      <th></th>\n",
       "      <th>name</th>\n",
       "    </tr>\n",
       "  </thead>\n",
       "  <tbody>\n",
       "    <tr>\n",
       "      <th>0</th>\n",
       "      <td>Very Nice 2Br - Copacabana - WiFi</td>\n",
       "    </tr>\n",
       "    <tr>\n",
       "      <th>1</th>\n",
       "      <td>Nice and cozy near Ipanema Beach</td>\n",
       "    </tr>\n",
       "    <tr>\n",
       "      <th>2</th>\n",
       "      <td>Beautiful Modern Decorated Studio in Copa</td>\n",
       "    </tr>\n",
       "    <tr>\n",
       "      <th>3</th>\n",
       "      <td>NICE &amp; COZY 1BDR - IPANEMA BEACH</td>\n",
       "    </tr>\n",
       "    <tr>\n",
       "      <th>4</th>\n",
       "      <td>Cosy flat close to Ipanema beach</td>\n",
       "    </tr>\n",
       "  </tbody>\n",
       "</table>\n",
       "</div>"
      ],
      "text/plain": [
       "                                        name\n",
       "0          Very Nice 2Br - Copacabana - WiFi\n",
       "1           Nice and cozy near Ipanema Beach\n",
       "2  Beautiful Modern Decorated Studio in Copa\n",
       "3           NICE & COZY 1BDR - IPANEMA BEACH\n",
       "4           Cosy flat close to Ipanema beach"
      ]
     },
     "execution_count": 6,
     "metadata": {},
     "output_type": "execute_result"
    }
   ],
   "source": [
    "srs_sem2.head()"
   ]
  },
  {
   "cell_type": "code",
   "execution_count": 8,
   "metadata": {},
   "outputs": [],
   "source": [
    "srs_com=pd.read_csv('series_com_hd.csv')"
   ]
  },
  {
   "cell_type": "code",
   "execution_count": 10,
   "metadata": {},
   "outputs": [
    {
     "data": {
      "text/html": [
       "<div>\n",
       "<style>\n",
       "    .dataframe thead tr:only-child th {\n",
       "        text-align: right;\n",
       "    }\n",
       "\n",
       "    .dataframe thead th {\n",
       "        text-align: left;\n",
       "    }\n",
       "\n",
       "    .dataframe tbody tr th {\n",
       "        vertical-align: top;\n",
       "    }\n",
       "</style>\n",
       "<table border=\"1\" class=\"dataframe\">\n",
       "  <thead>\n",
       "    <tr style=\"text-align: right;\">\n",
       "      <th></th>\n",
       "      <th>Unnamed: 0</th>\n",
       "      <th>name</th>\n",
       "    </tr>\n",
       "  </thead>\n",
       "  <tbody>\n",
       "    <tr>\n",
       "      <th>0</th>\n",
       "      <td>0</td>\n",
       "      <td>Very Nice 2Br - Copacabana - WiFi</td>\n",
       "    </tr>\n",
       "    <tr>\n",
       "      <th>1</th>\n",
       "      <td>1</td>\n",
       "      <td>Nice and cozy near Ipanema Beach</td>\n",
       "    </tr>\n",
       "    <tr>\n",
       "      <th>2</th>\n",
       "      <td>2</td>\n",
       "      <td>Beautiful Modern Decorated Studio in Copa</td>\n",
       "    </tr>\n",
       "    <tr>\n",
       "      <th>3</th>\n",
       "      <td>3</td>\n",
       "      <td>NICE &amp; COZY 1BDR - IPANEMA BEACH</td>\n",
       "    </tr>\n",
       "    <tr>\n",
       "      <th>4</th>\n",
       "      <td>4</td>\n",
       "      <td>Cosy flat close to Ipanema beach</td>\n",
       "    </tr>\n",
       "  </tbody>\n",
       "</table>\n",
       "</div>"
      ],
      "text/plain": [
       "   Unnamed: 0                                       name\n",
       "0           0          Very Nice 2Br - Copacabana - WiFi\n",
       "1           1           Nice and cozy near Ipanema Beach\n",
       "2           2  Beautiful Modern Decorated Studio in Copa\n",
       "3           3           NICE & COZY 1BDR - IPANEMA BEACH\n",
       "4           4           Cosy flat close to Ipanema beach"
      ]
     },
     "execution_count": 10,
     "metadata": {},
     "output_type": "execute_result"
    }
   ],
   "source": [
    "srs_com.head()"
   ]
  },
  {
   "cell_type": "code",
   "execution_count": 11,
   "metadata": {
    "collapsed": true
   },
   "outputs": [],
   "source": [
    "srs_com2=pd.read_csv('series_com_hd.csv', index_col=0)"
   ]
  },
  {
   "cell_type": "code",
   "execution_count": 12,
   "metadata": {},
   "outputs": [
    {
     "data": {
      "text/html": [
       "<div>\n",
       "<style>\n",
       "    .dataframe thead tr:only-child th {\n",
       "        text-align: right;\n",
       "    }\n",
       "\n",
       "    .dataframe thead th {\n",
       "        text-align: left;\n",
       "    }\n",
       "\n",
       "    .dataframe tbody tr th {\n",
       "        vertical-align: top;\n",
       "    }\n",
       "</style>\n",
       "<table border=\"1\" class=\"dataframe\">\n",
       "  <thead>\n",
       "    <tr style=\"text-align: right;\">\n",
       "      <th></th>\n",
       "      <th>name</th>\n",
       "    </tr>\n",
       "  </thead>\n",
       "  <tbody>\n",
       "    <tr>\n",
       "      <th>0</th>\n",
       "      <td>Very Nice 2Br - Copacabana - WiFi</td>\n",
       "    </tr>\n",
       "    <tr>\n",
       "      <th>1</th>\n",
       "      <td>Nice and cozy near Ipanema Beach</td>\n",
       "    </tr>\n",
       "    <tr>\n",
       "      <th>2</th>\n",
       "      <td>Beautiful Modern Decorated Studio in Copa</td>\n",
       "    </tr>\n",
       "    <tr>\n",
       "      <th>3</th>\n",
       "      <td>NICE &amp; COZY 1BDR - IPANEMA BEACH</td>\n",
       "    </tr>\n",
       "    <tr>\n",
       "      <th>4</th>\n",
       "      <td>Cosy flat close to Ipanema beach</td>\n",
       "    </tr>\n",
       "  </tbody>\n",
       "</table>\n",
       "</div>"
      ],
      "text/plain": [
       "                                        name\n",
       "0          Very Nice 2Br - Copacabana - WiFi\n",
       "1           Nice and cozy near Ipanema Beach\n",
       "2  Beautiful Modern Decorated Studio in Copa\n",
       "3           NICE & COZY 1BDR - IPANEMA BEACH\n",
       "4           Cosy flat close to Ipanema beach"
      ]
     },
     "execution_count": 12,
     "metadata": {},
     "output_type": "execute_result"
    }
   ],
   "source": [
    "srs_com2.head()"
   ]
  },
  {
   "cell_type": "code",
   "execution_count": null,
   "metadata": {
    "collapsed": true
   },
   "outputs": [],
   "source": []
  }
 ],
 "metadata": {
  "kernelspec": {
   "display_name": "Python 3",
   "language": "python",
   "name": "python3"
  },
  "language_info": {
   "codemirror_mode": {
    "name": "ipython",
    "version": 3
   },
   "file_extension": ".py",
   "mimetype": "text/x-python",
   "name": "python",
   "nbconvert_exporter": "python",
   "pygments_lexer": "ipython3",
   "version": "3.6.1"
  }
 },
 "nbformat": 4,
 "nbformat_minor": 2
}
