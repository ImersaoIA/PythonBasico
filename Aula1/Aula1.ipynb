{
 "cells": [
  {
   "cell_type": "markdown",
   "metadata": {},
   "source": [
    "# Noções básicas de Python"
   ]
  },
  {
   "cell_type": "markdown",
   "metadata": {},
   "source": [
    "## Importar bibliotecas\n",
    "\n",
    "É feito usando o comando **import** (a biblioteca deve estar instalada na máquina)"
   ]
  },
  {
   "cell_type": "code",
   "execution_count": 2,
   "metadata": {
    "collapsed": true
   },
   "outputs": [],
   "source": [
    "import pandas\n",
    "import numpy\n",
    "import matplotlib.pyplot"
   ]
  },
  {
   "cell_type": "markdown",
   "metadata": {},
   "source": [
    "Para facilitar, pode-se substituir o nome da biblioteca por um *alias"
   ]
  },
  {
   "cell_type": "code",
   "execution_count": 2,
   "metadata": {
    "collapsed": true
   },
   "outputs": [],
   "source": [
    "import pandas as pd\n",
    "import numpy as np\n",
    "import matplotlib.pyplot as plt\n",
    "import seaborn as sns"
   ]
  },
  {
   "cell_type": "markdown",
   "metadata": {},
   "source": [
    "Ao se importar bibliotecas com muitas funções, convém também selecionar especificamente o que vai ser usado"
   ]
  },
  {
   "cell_type": "code",
   "execution_count": 4,
   "metadata": {
    "collapsed": true
   },
   "outputs": [],
   "source": [
    "from sklearn.linear_model import LinearRegression"
   ]
  },
  {
   "cell_type": "markdown",
   "metadata": {
    "collapsed": true
   },
   "source": [
    "## Sintaxe\n",
    "\n",
    "### Variáveis\n",
    "\n",
    "Não é preciso declarar o tipo de variável: numérico, caracter, etc."
   ]
  },
  {
   "cell_type": "code",
   "execution_count": 5,
   "metadata": {
    "collapsed": true
   },
   "outputs": [],
   "source": [
    "num_hosp = 3\n",
    "description = '2 bedrooms in Gávea super cozy' # ou \"2 bedrooms in Gávea super cozy\""
   ]
  },
  {
   "cell_type": "code",
   "execution_count": 6,
   "metadata": {},
   "outputs": [
    {
     "data": {
      "text/plain": [
       "3"
      ]
     },
     "execution_count": 6,
     "metadata": {},
     "output_type": "execute_result"
    }
   ],
   "source": [
    "num_hosp"
   ]
  },
  {
   "cell_type": "code",
   "execution_count": 7,
   "metadata": {},
   "outputs": [
    {
     "data": {
      "text/plain": [
       "'2 bedrooms in Gávea super cozy'"
      ]
     },
     "execution_count": 7,
     "metadata": {},
     "output_type": "execute_result"
    }
   ],
   "source": [
    "description"
   ]
  },
  {
   "cell_type": "markdown",
   "metadata": {},
   "source": [
    "#### String (caracter)\n",
    "\n",
    "Strings são definidas com áspas - simples ou duplas -, e podem ser concatenadar com o operador  '+'"
   ]
  },
  {
   "cell_type": "code",
   "execution_count": 8,
   "metadata": {},
   "outputs": [
    {
     "name": "stdout",
     "output_type": "stream",
     "text": [
      "Olá, Roberto, você reservou um quarto para 2 pessoas durante 4 dias \n",
      "\n",
      "Boa estadia!\n"
     ]
    }
   ],
   "source": [
    "nome='Roberto'\n",
    "num_pes='2'\n",
    "num_dias='4'\n",
    "\n",
    "confirma=\"Olá, \"+nome+\", você reservou um quarto para \"+num_pes+\" pessoas durante \"+num_dias+\" dias \\n\\nBoa estadia!\"\n",
    "\n",
    "print(confirma)"
   ]
  },
  {
   "cell_type": "markdown",
   "metadata": {},
   "source": [
    "Nota: o caracter \"\\\" é usado para diferenciar caracteres especiais, por ex:\n",
    "    - \\n: nova linha\n",
    "    - \\\": áspas\n",
    "    - \\t: tab\n",
    "\n",
    "Para a barra invertida, usase a sequência \"\\\\\", ou, para ignorar toda a ocorrência, r\"\""
   ]
  },
  {
   "cell_type": "code",
   "execution_count": 9,
   "metadata": {},
   "outputs": [
    {
     "name": "stdout",
     "output_type": "stream",
     "text": [
      "\\ofertas\\carnaval\n",
      "\\agendamentos\\pendentes\n"
     ]
    }
   ],
   "source": [
    "caminho1=\"\\\\ofertas\\\\carnaval\"\n",
    "caminho2=r\"\\agendamentos\\pendentes\"\n",
    "\n",
    "print(caminho1)\n",
    "print(caminho2)"
   ]
  },
  {
   "cell_type": "markdown",
   "metadata": {},
   "source": [
    "#### Lists (listas/array)\n",
    "\n",
    "Listas são definidas com colchetes [ ], e são exatamente isso, listas de variáveis, não necessariamente do mesmo tipo.\n",
    "Para acessar um elemento, utiliza-se um índice, que em Python começa do 0, como na maioria das linguagens."
   ]
  },
  {
   "cell_type": "code",
   "execution_count": 10,
   "metadata": {
    "collapsed": true
   },
   "outputs": [],
   "source": [
    "rating = [3, 4, 3, 3, 5]\n",
    "interesses= ['praia', 'trilha', 'cultural']\n",
    "info=['Roberto', 'Arantes', 25, False]\n"
   ]
  },
  {
   "cell_type": "markdown",
   "metadata": {},
   "source": [
    "Comandos úteis são:\n",
    "    - sum(): soma\n",
    "    - len(): comprimento da lista - número de elementos\n",
    "    - in: checar pertencimento\n",
    "    - .extend: adiciona uma lista à outra\n",
    "    - +: concatena listas\n",
    "    - .append: adiciona elemento a uma lista\n",
    "    - sorted(): ordena os elementos de acordo com seu módulo"
   ]
  },
  {
   "cell_type": "code",
   "execution_count": 11,
   "metadata": {
    "collapsed": true
   },
   "outputs": [],
   "source": [
    "media=sum(rating)/len(rating) # 3.6\n",
    "compat = 'cachorro' in interesses # False\n",
    "nome_completo=info[0]+' '+info[1] # 'Roberto Arantes'"
   ]
  },
  {
   "cell_type": "markdown",
   "metadata": {
    "collapsed": true
   },
   "source": [
    "#### Tuples (tuplas)\n",
    "\n",
    "Tuplas são definidas com parênteses ( ), ou nada, e têm basicamente as mesmas propriedades das listas, porém não podem ser modificadas depois de declaradas."
   ]
  },
  {
   "cell_type": "code",
   "execution_count": 12,
   "metadata": {},
   "outputs": [
    {
     "name": "stdout",
     "output_type": "stream",
     "text": [
      "Não podemos modificar os ratings\n"
     ]
    }
   ],
   "source": [
    "ratings = 2, 3, 3, 4, 3\n",
    "\n",
    "try: \n",
    "    ratings[0] = 5\n",
    "except TypeError:\n",
    "    print('Não podemos modificar os ratings')"
   ]
  },
  {
   "cell_type": "markdown",
   "metadata": {},
   "source": [
    "Apesar disso, ainda podemos sobreescrever tuplas utilizando os mesmos nomes de variáveis"
   ]
  },
  {
   "cell_type": "code",
   "execution_count": 13,
   "metadata": {},
   "outputs": [
    {
     "name": "stdout",
     "output_type": "stream",
     "text": [
      "(5, 5, 5, 5, 5)\n"
     ]
    }
   ],
   "source": [
    "ratings =(5, 5, 5, 5, 5)\n",
    "print(ratings)"
   ]
  },
  {
   "cell_type": "markdown",
   "metadata": {},
   "source": [
    "#### Dicionários\n",
    "\n",
    "Dicionários são definidos com colchetes { }, e associa determinados valores a chaves, em vez de índices numéricos"
   ]
  },
  {
   "cell_type": "code",
   "execution_count": 14,
   "metadata": {
    "collapsed": true
   },
   "outputs": [],
   "source": [
    "info = {'nome': 'Roberto', 'sobrenome':'Arantes', 'idade': 26, 'alérgico': False }\n",
    "\n",
    "idade_hospede = info['idade']"
   ]
  },
  {
   "cell_type": "code",
   "execution_count": 15,
   "metadata": {
    "collapsed": true
   },
   "outputs": [],
   "source": [
    "infos = [{'nome': 'Roberto', 'sobrenome':'Arantes', 'idade': 26, 'alérgico': False },\n",
    "         {'nome': 'Mariana', 'sobrenome':'Dias', 'idade': 24, 'alérgico': True }]"
   ]
  },
  {
   "cell_type": "code",
   "execution_count": 16,
   "metadata": {},
   "outputs": [
    {
     "data": {
      "text/plain": [
       "'Bom dia, Roberto e Mariana!'"
      ]
     },
     "execution_count": 16,
     "metadata": {},
     "output_type": "execute_result"
    }
   ],
   "source": [
    "'Bom dia, '+infos[0]['nome']+' e '+infos[1]['nome']+'!'"
   ]
  },
  {
   "cell_type": "markdown",
   "metadata": {
    "collapsed": true
   },
   "source": [
    "### Controle de fluxo\n",
    "\n",
    "Como a maioria das linguagens, Python tem funções condicionais e de iteração, ou seja **if-else**, **while** e **for**.\n",
    "\n",
    "**Importante** A identação das linhas define o que está dentro ou fora dos comandos"
   ]
  },
  {
   "cell_type": "code",
   "execution_count": 17,
   "metadata": {},
   "outputs": [
    {
     "name": "stdout",
     "output_type": "stream",
     "text": [
      "Quarto 001 acima do preço máximo\n",
      "Quarto 002 dentro do preço máximo\n",
      "Quarto 003 dentro do preço máximo\n",
      "Quarto 004 acima do preço máximo\n",
      "Quarto 005 acima do preço máximo\n",
      "Quarto 006 dentro do preço máximo\n"
     ]
    }
   ],
   "source": [
    "vagas = [{'id': '001', 'preco': 300},\n",
    "         {'id': '002', 'preco': 200},\n",
    "         {'id': '003', 'preco': 100},\n",
    "         {'id': '004', 'preco': 250},\n",
    "         {'id': '005', 'preco': 400},\n",
    "         {'id': '006', 'preco': 150},]\n",
    "\n",
    "prec_max = 200\n",
    "\n",
    "for i in range(6):\n",
    "    if vagas[i]['preco']<=prec_max:\n",
    "        print('Quarto '+vagas[i]['id']+ ' dentro do preço máximo')\n",
    "    else:\n",
    "        print('Quarto '+vagas[i]['id']+ ' acima do preço máximo')"
   ]
  },
  {
   "cell_type": "markdown",
   "metadata": {},
   "source": [
    "Ou ainda"
   ]
  },
  {
   "cell_type": "code",
   "execution_count": 18,
   "metadata": {},
   "outputs": [
    {
     "name": "stdout",
     "output_type": "stream",
     "text": [
      "Quarto 001 acima do preço máximo\n",
      "Quarto 002 dentro do preço máximo\n",
      "Quarto 003 dentro do preço máximo\n",
      "Quarto 004 acima do preço máximo\n",
      "Quarto 005 acima do preço máximo\n",
      "Quarto 006 dentro do preço máximo\n"
     ]
    }
   ],
   "source": [
    "for quarto in vagas:\n",
    "    if quarto['preco']<=prec_max:\n",
    "        print('Quarto '+quarto['id']+ ' dentro do preço máximo')\n",
    "    else:\n",
    "        print('Quarto '+quarto['id']+ ' acima do preço máximo')"
   ]
  },
  {
   "cell_type": "markdown",
   "metadata": {},
   "source": [
    "### Pertencimento a listas\n",
    "\n",
    "Podemos ainda criar regras para pertencimento a listas de forma mais prática, aplicando filtros ou criando listas derivadas"
   ]
  },
  {
   "cell_type": "code",
   "execution_count": 19,
   "metadata": {},
   "outputs": [
    {
     "name": "stdout",
     "output_type": "stream",
     "text": [
      "[{'id': '002', 'preco': 200}, {'id': '003', 'preco': 100}, {'id': '006', 'preco': 150}]\n"
     ]
    }
   ],
   "source": [
    "vagasEmConta = [quarto for quarto in vagas if quarto['preco']<=prec_max]\n",
    "print(vagasEmConta)"
   ]
  },
  {
   "cell_type": "code",
   "execution_count": 20,
   "metadata": {},
   "outputs": [
    {
     "data": {
      "text/plain": [
       "['Quarto 002 dentro do preço máximo',\n",
       " 'Quarto 003 dentro do preço máximo',\n",
       " 'Quarto 006 dentro do preço máximo']"
      ]
     },
     "execution_count": 20,
     "metadata": {},
     "output_type": "execute_result"
    }
   ],
   "source": [
    "['Quarto '+quarto['id']+ ' dentro do preço máximo' for quarto in vagas if quarto['preco']<=prec_max]"
   ]
  },
  {
   "cell_type": "markdown",
   "metadata": {
    "collapsed": true
   },
   "source": [
    "## Pandas\n",
    "\n",
    "Pandas é uma biblioteca para manipulação de dados no Python. Ela disponibiliza estruturas e funções que facilitam consideravelmente o trabalho.\n",
    "\n",
    "Começamos importanto a biblioteca. Para facilitar, a chamamos de **pd**"
   ]
  },
  {
   "cell_type": "code",
   "execution_count": 21,
   "metadata": {
    "collapsed": true
   },
   "outputs": [],
   "source": [
    "import pandas as pd"
   ]
  },
  {
   "cell_type": "markdown",
   "metadata": {},
   "source": [
    "### Importar dados\n",
    "\n",
    "A forma mais comum de armazenamento de dados que utilizaremos será na forma de arquivo csv (separado por vírgula). Para carregá-los para seu código, usa-se a função **read_csv**\n",
    "\n",
    "pd.read_csv(< caminho do arquivo >, sep=',', header=0, names=None, index_col=None)\n",
    "\n",
    "sep = separador utilizado\n",
    "header = linha com o nome das colunas\n",
    "names = nomes das colunas. header=None\n",
    "index_col = coluna com o nome das linhas"
   ]
  },
  {
   "cell_type": "code",
   "execution_count": 22,
   "metadata": {
    "collapsed": true
   },
   "outputs": [],
   "source": [
    "srs_sem=pd.read_csv('series_sem_hd.csv')"
   ]
  },
  {
   "cell_type": "code",
   "execution_count": 23,
   "metadata": {},
   "outputs": [
    {
     "data": {
      "text/html": [
       "<div>\n",
       "<style>\n",
       "    .dataframe thead tr:only-child th {\n",
       "        text-align: right;\n",
       "    }\n",
       "\n",
       "    .dataframe thead th {\n",
       "        text-align: left;\n",
       "    }\n",
       "\n",
       "    .dataframe tbody tr th {\n",
       "        vertical-align: top;\n",
       "    }\n",
       "</style>\n",
       "<table border=\"1\" class=\"dataframe\">\n",
       "  <thead>\n",
       "    <tr style=\"text-align: right;\">\n",
       "      <th></th>\n",
       "      <th>Very Nice 2Br - Copacabana - WiFi</th>\n",
       "    </tr>\n",
       "  </thead>\n",
       "  <tbody>\n",
       "    <tr>\n",
       "      <th>0</th>\n",
       "      <td>Nice and cozy near Ipanema Beach</td>\n",
       "    </tr>\n",
       "    <tr>\n",
       "      <th>1</th>\n",
       "      <td>Beautiful Modern Decorated Studio in Copa</td>\n",
       "    </tr>\n",
       "    <tr>\n",
       "      <th>2</th>\n",
       "      <td>NICE &amp; COZY 1BDR - IPANEMA BEACH</td>\n",
       "    </tr>\n",
       "    <tr>\n",
       "      <th>3</th>\n",
       "      <td>Cosy flat close to Ipanema beach</td>\n",
       "    </tr>\n",
       "    <tr>\n",
       "      <th>4</th>\n",
       "      <td>COPACABANA SEA BREEZE  -  RIO</td>\n",
       "    </tr>\n",
       "  </tbody>\n",
       "</table>\n",
       "</div>"
      ],
      "text/plain": [
       "           Very Nice 2Br - Copacabana - WiFi\n",
       "0           Nice and cozy near Ipanema Beach\n",
       "1  Beautiful Modern Decorated Studio in Copa\n",
       "2           NICE & COZY 1BDR - IPANEMA BEACH\n",
       "3           Cosy flat close to Ipanema beach\n",
       "4              COPACABANA SEA BREEZE  -  RIO"
      ]
     },
     "execution_count": 23,
     "metadata": {},
     "output_type": "execute_result"
    }
   ],
   "source": [
    "srs_sem.head()"
   ]
  },
  {
   "cell_type": "code",
   "execution_count": 24,
   "metadata": {
    "collapsed": true
   },
   "outputs": [],
   "source": [
    "srs_sem2=pd.read_csv('series_sem_hd.csv', header=None, names=['name'])"
   ]
  },
  {
   "cell_type": "code",
   "execution_count": 25,
   "metadata": {},
   "outputs": [
    {
     "data": {
      "text/html": [
       "<div>\n",
       "<style>\n",
       "    .dataframe thead tr:only-child th {\n",
       "        text-align: right;\n",
       "    }\n",
       "\n",
       "    .dataframe thead th {\n",
       "        text-align: left;\n",
       "    }\n",
       "\n",
       "    .dataframe tbody tr th {\n",
       "        vertical-align: top;\n",
       "    }\n",
       "</style>\n",
       "<table border=\"1\" class=\"dataframe\">\n",
       "  <thead>\n",
       "    <tr style=\"text-align: right;\">\n",
       "      <th></th>\n",
       "      <th>name</th>\n",
       "    </tr>\n",
       "  </thead>\n",
       "  <tbody>\n",
       "    <tr>\n",
       "      <th>0</th>\n",
       "      <td>Very Nice 2Br - Copacabana - WiFi</td>\n",
       "    </tr>\n",
       "    <tr>\n",
       "      <th>1</th>\n",
       "      <td>Nice and cozy near Ipanema Beach</td>\n",
       "    </tr>\n",
       "    <tr>\n",
       "      <th>2</th>\n",
       "      <td>Beautiful Modern Decorated Studio in Copa</td>\n",
       "    </tr>\n",
       "    <tr>\n",
       "      <th>3</th>\n",
       "      <td>NICE &amp; COZY 1BDR - IPANEMA BEACH</td>\n",
       "    </tr>\n",
       "    <tr>\n",
       "      <th>4</th>\n",
       "      <td>Cosy flat close to Ipanema beach</td>\n",
       "    </tr>\n",
       "  </tbody>\n",
       "</table>\n",
       "</div>"
      ],
      "text/plain": [
       "                                        name\n",
       "0          Very Nice 2Br - Copacabana - WiFi\n",
       "1           Nice and cozy near Ipanema Beach\n",
       "2  Beautiful Modern Decorated Studio in Copa\n",
       "3           NICE & COZY 1BDR - IPANEMA BEACH\n",
       "4           Cosy flat close to Ipanema beach"
      ]
     },
     "execution_count": 25,
     "metadata": {},
     "output_type": "execute_result"
    }
   ],
   "source": [
    "srs_sem2.head()"
   ]
  },
  {
   "cell_type": "code",
   "execution_count": 26,
   "metadata": {
    "collapsed": true
   },
   "outputs": [],
   "source": [
    "srs_com=pd.read_csv('series_com_hd.csv')"
   ]
  },
  {
   "cell_type": "code",
   "execution_count": 27,
   "metadata": {},
   "outputs": [
    {
     "data": {
      "text/html": [
       "<div>\n",
       "<style>\n",
       "    .dataframe thead tr:only-child th {\n",
       "        text-align: right;\n",
       "    }\n",
       "\n",
       "    .dataframe thead th {\n",
       "        text-align: left;\n",
       "    }\n",
       "\n",
       "    .dataframe tbody tr th {\n",
       "        vertical-align: top;\n",
       "    }\n",
       "</style>\n",
       "<table border=\"1\" class=\"dataframe\">\n",
       "  <thead>\n",
       "    <tr style=\"text-align: right;\">\n",
       "      <th></th>\n",
       "      <th>Unnamed: 0</th>\n",
       "      <th>name</th>\n",
       "    </tr>\n",
       "  </thead>\n",
       "  <tbody>\n",
       "    <tr>\n",
       "      <th>0</th>\n",
       "      <td>0</td>\n",
       "      <td>Very Nice 2Br - Copacabana - WiFi</td>\n",
       "    </tr>\n",
       "    <tr>\n",
       "      <th>1</th>\n",
       "      <td>1</td>\n",
       "      <td>Nice and cozy near Ipanema Beach</td>\n",
       "    </tr>\n",
       "    <tr>\n",
       "      <th>2</th>\n",
       "      <td>2</td>\n",
       "      <td>Beautiful Modern Decorated Studio in Copa</td>\n",
       "    </tr>\n",
       "    <tr>\n",
       "      <th>3</th>\n",
       "      <td>3</td>\n",
       "      <td>NICE &amp; COZY 1BDR - IPANEMA BEACH</td>\n",
       "    </tr>\n",
       "    <tr>\n",
       "      <th>4</th>\n",
       "      <td>4</td>\n",
       "      <td>Cosy flat close to Ipanema beach</td>\n",
       "    </tr>\n",
       "  </tbody>\n",
       "</table>\n",
       "</div>"
      ],
      "text/plain": [
       "   Unnamed: 0                                       name\n",
       "0           0          Very Nice 2Br - Copacabana - WiFi\n",
       "1           1           Nice and cozy near Ipanema Beach\n",
       "2           2  Beautiful Modern Decorated Studio in Copa\n",
       "3           3           NICE & COZY 1BDR - IPANEMA BEACH\n",
       "4           4           Cosy flat close to Ipanema beach"
      ]
     },
     "execution_count": 27,
     "metadata": {},
     "output_type": "execute_result"
    }
   ],
   "source": [
    "srs_com.head()"
   ]
  },
  {
   "cell_type": "code",
   "execution_count": 28,
   "metadata": {
    "collapsed": true
   },
   "outputs": [],
   "source": [
    "srs_com2=pd.read_csv('series_com_hd.csv', index_col=0)"
   ]
  },
  {
   "cell_type": "code",
   "execution_count": 29,
   "metadata": {},
   "outputs": [
    {
     "data": {
      "text/html": [
       "<div>\n",
       "<style>\n",
       "    .dataframe thead tr:only-child th {\n",
       "        text-align: right;\n",
       "    }\n",
       "\n",
       "    .dataframe thead th {\n",
       "        text-align: left;\n",
       "    }\n",
       "\n",
       "    .dataframe tbody tr th {\n",
       "        vertical-align: top;\n",
       "    }\n",
       "</style>\n",
       "<table border=\"1\" class=\"dataframe\">\n",
       "  <thead>\n",
       "    <tr style=\"text-align: right;\">\n",
       "      <th></th>\n",
       "      <th>name</th>\n",
       "    </tr>\n",
       "  </thead>\n",
       "  <tbody>\n",
       "    <tr>\n",
       "      <th>0</th>\n",
       "      <td>Very Nice 2Br - Copacabana - WiFi</td>\n",
       "    </tr>\n",
       "    <tr>\n",
       "      <th>1</th>\n",
       "      <td>Nice and cozy near Ipanema Beach</td>\n",
       "    </tr>\n",
       "    <tr>\n",
       "      <th>2</th>\n",
       "      <td>Beautiful Modern Decorated Studio in Copa</td>\n",
       "    </tr>\n",
       "    <tr>\n",
       "      <th>3</th>\n",
       "      <td>NICE &amp; COZY 1BDR - IPANEMA BEACH</td>\n",
       "    </tr>\n",
       "    <tr>\n",
       "      <th>4</th>\n",
       "      <td>Cosy flat close to Ipanema beach</td>\n",
       "    </tr>\n",
       "  </tbody>\n",
       "</table>\n",
       "</div>"
      ],
      "text/plain": [
       "                                        name\n",
       "0          Very Nice 2Br - Copacabana - WiFi\n",
       "1           Nice and cozy near Ipanema Beach\n",
       "2  Beautiful Modern Decorated Studio in Copa\n",
       "3           NICE & COZY 1BDR - IPANEMA BEACH\n",
       "4           Cosy flat close to Ipanema beach"
      ]
     },
     "execution_count": 29,
     "metadata": {},
     "output_type": "execute_result"
    }
   ],
   "source": [
    "srs_com2.head()"
   ]
  },
  {
   "cell_type": "markdown",
   "metadata": {
    "collapsed": true
   },
   "source": [
    "### pandas.Series\n",
    "\n",
    "A primeira estrutura que veremos será **Series**\n",
    "\n",
    "\n",
    "Básicamente, armazenam dados, não necessariamente do mesmo tipo, de forma unidimensional\n",
    "\n",
    "Na prática, funciona bastante como um dicionário."
   ]
  },
  {
   "cell_type": "code",
   "execution_count": 59,
   "metadata": {},
   "outputs": [
    {
     "data": {
      "text/html": [
       "<div>\n",
       "<style>\n",
       "    .dataframe thead tr:only-child th {\n",
       "        text-align: right;\n",
       "    }\n",
       "\n",
       "    .dataframe thead th {\n",
       "        text-align: left;\n",
       "    }\n",
       "\n",
       "    .dataframe tbody tr th {\n",
       "        vertical-align: top;\n",
       "    }\n",
       "</style>\n",
       "<table border=\"1\" class=\"dataframe\">\n",
       "  <thead>\n",
       "    <tr style=\"text-align: right;\">\n",
       "      <th></th>\n",
       "      <th>name</th>\n",
       "    </tr>\n",
       "  </thead>\n",
       "  <tbody>\n",
       "    <tr>\n",
       "      <th>0</th>\n",
       "      <td>Very Nice 2Br - Copacabana - WiFi</td>\n",
       "    </tr>\n",
       "    <tr>\n",
       "      <th>1</th>\n",
       "      <td>Nice and cozy near Ipanema Beach</td>\n",
       "    </tr>\n",
       "    <tr>\n",
       "      <th>2</th>\n",
       "      <td>Beautiful Modern Decorated Studio in Copa</td>\n",
       "    </tr>\n",
       "    <tr>\n",
       "      <th>3</th>\n",
       "      <td>NICE &amp; COZY 1BDR - IPANEMA BEACH</td>\n",
       "    </tr>\n",
       "    <tr>\n",
       "      <th>4</th>\n",
       "      <td>Cosy flat close to Ipanema beach</td>\n",
       "    </tr>\n",
       "  </tbody>\n",
       "</table>\n",
       "</div>"
      ],
      "text/plain": [
       "                                        name\n",
       "0          Very Nice 2Br - Copacabana - WiFi\n",
       "1           Nice and cozy near Ipanema Beach\n",
       "2  Beautiful Modern Decorated Studio in Copa\n",
       "3           NICE & COZY 1BDR - IPANEMA BEACH\n",
       "4           Cosy flat close to Ipanema beach"
      ]
     },
     "execution_count": 59,
     "metadata": {},
     "output_type": "execute_result"
    }
   ],
   "source": [
    "s=srs_com2.head()\n",
    "s"
   ]
  },
  {
   "cell_type": "markdown",
   "metadata": {
    "collapsed": true
   },
   "source": [
    "Podemos editar os índices das linhas"
   ]
  },
  {
   "cell_type": "code",
   "execution_count": 60,
   "metadata": {},
   "outputs": [
    {
     "data": {
      "text/html": [
       "<div>\n",
       "<style>\n",
       "    .dataframe thead tr:only-child th {\n",
       "        text-align: right;\n",
       "    }\n",
       "\n",
       "    .dataframe thead th {\n",
       "        text-align: left;\n",
       "    }\n",
       "\n",
       "    .dataframe tbody tr th {\n",
       "        vertical-align: top;\n",
       "    }\n",
       "</style>\n",
       "<table border=\"1\" class=\"dataframe\">\n",
       "  <thead>\n",
       "    <tr style=\"text-align: right;\">\n",
       "      <th></th>\n",
       "      <th>name</th>\n",
       "    </tr>\n",
       "  </thead>\n",
       "  <tbody>\n",
       "    <tr>\n",
       "      <th>i_od4HAsVLo</th>\n",
       "      <td>Very Nice 2Br - Copacabana - WiFi</td>\n",
       "    </tr>\n",
       "    <tr>\n",
       "      <th>L_jWHffIx5E</th>\n",
       "      <td>Nice and cozy near Ipanema Beach</td>\n",
       "    </tr>\n",
       "    <tr>\n",
       "      <th>wZZ7oFKsKzY</th>\n",
       "      <td>Beautiful Modern Decorated Studio in Copa</td>\n",
       "    </tr>\n",
       "    <tr>\n",
       "      <th>kxopViU98Xo</th>\n",
       "      <td>NICE &amp; COZY 1BDR - IPANEMA BEACH</td>\n",
       "    </tr>\n",
       "    <tr>\n",
       "      <th>CaE0JD1X12g</th>\n",
       "      <td>Cosy flat close to Ipanema beach</td>\n",
       "    </tr>\n",
       "  </tbody>\n",
       "</table>\n",
       "</div>"
      ],
      "text/plain": [
       "                                                  name\n",
       "i_od4HAsVLo          Very Nice 2Br - Copacabana - WiFi\n",
       "L_jWHffIx5E           Nice and cozy near Ipanema Beach\n",
       "wZZ7oFKsKzY  Beautiful Modern Decorated Studio in Copa\n",
       "kxopViU98Xo           NICE & COZY 1BDR - IPANEMA BEACH\n",
       "CaE0JD1X12g           Cosy flat close to Ipanema beach"
      ]
     },
     "execution_count": 60,
     "metadata": {},
     "output_type": "execute_result"
    }
   ],
   "source": [
    "s2=s\n",
    "s2.index=['i_od4HAsVLo', 'L_jWHffIx5E', 'wZZ7oFKsKzY', 'kxopViU98Xo', 'CaE0JD1X12g']\n",
    "s2"
   ]
  },
  {
   "cell_type": "markdown",
   "metadata": {},
   "source": [
    "Ou criar series a partir de dicionários"
   ]
  },
  {
   "cell_type": "code",
   "execution_count": 50,
   "metadata": {},
   "outputs": [
    {
     "data": {
      "text/plain": [
       "alérgico       False\n",
       "idade             26\n",
       "nome         Roberto\n",
       "sobrenome    Arantes\n",
       "dtype: object"
      ]
     },
     "execution_count": 50,
     "metadata": {},
     "output_type": "execute_result"
    }
   ],
   "source": [
    "infoSr=pd.Series(info)\n",
    "infoSr"
   ]
  },
  {
   "cell_type": "markdown",
   "metadata": {},
   "source": [
    "Selecionamos os elementos pelos nomes ou índices das linhas (iniciando em 0)  "
   ]
  },
  {
   "cell_type": "code",
   "execution_count": 51,
   "metadata": {},
   "outputs": [
    {
     "data": {
      "text/plain": [
       "'Roberto'"
      ]
     },
     "execution_count": 51,
     "metadata": {},
     "output_type": "execute_result"
    }
   ],
   "source": [
    "infoSr['nome']"
   ]
  },
  {
   "cell_type": "code",
   "execution_count": 52,
   "metadata": {},
   "outputs": [
    {
     "data": {
      "text/plain": [
       "'Roberto'"
      ]
     },
     "execution_count": 52,
     "metadata": {},
     "output_type": "execute_result"
    }
   ],
   "source": [
    "infoSr[2]"
   ]
  },
  {
   "cell_type": "markdown",
   "metadata": {},
   "source": [
    "\n",
    "### pandas.DataFrame\n",
    "\n",
    "O **DataFrame** armazena dados numa estrutura retangular. Não necessariamente os dados de uma mesma linha ou coluna precisam ser do mesmo tipo.\n",
    "\n",
    "Cada coluna de um **DataFrame** pode ser considerada comom uma **Series**"
   ]
  },
  {
   "cell_type": "code",
   "execution_count": 3,
   "metadata": {},
   "outputs": [
    {
     "data": {
      "text/html": [
       "<div>\n",
       "<style>\n",
       "    .dataframe thead tr:only-child th {\n",
       "        text-align: right;\n",
       "    }\n",
       "\n",
       "    .dataframe thead th {\n",
       "        text-align: left;\n",
       "    }\n",
       "\n",
       "    .dataframe tbody tr th {\n",
       "        vertical-align: top;\n",
       "    }\n",
       "</style>\n",
       "<table border=\"1\" class=\"dataframe\">\n",
       "  <thead>\n",
       "    <tr style=\"text-align: right;\">\n",
       "      <th></th>\n",
       "      <th>id</th>\n",
       "      <th>price</th>\n",
       "      <th>space</th>\n",
       "      <th>beds</th>\n",
       "      <th>bedrooms</th>\n",
       "      <th>bathrooms</th>\n",
       "      <th>neighbourhood</th>\n",
       "      <th>accommodates</th>\n",
       "      <th>host_is_superhost</th>\n",
       "      <th>instant_bookable</th>\n",
       "    </tr>\n",
       "  </thead>\n",
       "  <tbody>\n",
       "    <tr>\n",
       "      <th>0</th>\n",
       "      <td>17878</td>\n",
       "      <td>300.0</td>\n",
       "      <td>- large balcony which looks out on pedestrian ...</td>\n",
       "      <td>2.0</td>\n",
       "      <td>2.0</td>\n",
       "      <td>1.0</td>\n",
       "      <td>Copacabana</td>\n",
       "      <td>5</td>\n",
       "      <td>f</td>\n",
       "      <td>t</td>\n",
       "    </tr>\n",
       "    <tr>\n",
       "      <th>1</th>\n",
       "      <td>24480</td>\n",
       "      <td>228.0</td>\n",
       "      <td>The studio is located at Vinicius de Moraes St...</td>\n",
       "      <td>1.0</td>\n",
       "      <td>1.0</td>\n",
       "      <td>1.0</td>\n",
       "      <td>Ipanema</td>\n",
       "      <td>2</td>\n",
       "      <td>f</td>\n",
       "      <td>f</td>\n",
       "    </tr>\n",
       "    <tr>\n",
       "      <th>2</th>\n",
       "      <td>25026</td>\n",
       "      <td>159.0</td>\n",
       "      <td>This newly renovated studio (last renovations ...</td>\n",
       "      <td>2.0</td>\n",
       "      <td>1.0</td>\n",
       "      <td>1.0</td>\n",
       "      <td>Copacabana</td>\n",
       "      <td>3</td>\n",
       "      <td>f</td>\n",
       "      <td>f</td>\n",
       "    </tr>\n",
       "    <tr>\n",
       "      <th>3</th>\n",
       "      <td>31560</td>\n",
       "      <td>247.0</td>\n",
       "      <td>This nice and clean 1 bedroom apartment is loc...</td>\n",
       "      <td>2.0</td>\n",
       "      <td>1.0</td>\n",
       "      <td>1.0</td>\n",
       "      <td>Ipanema</td>\n",
       "      <td>3</td>\n",
       "      <td>t</td>\n",
       "      <td>t</td>\n",
       "    </tr>\n",
       "    <tr>\n",
       "      <th>4</th>\n",
       "      <td>35636</td>\n",
       "      <td>342.0</td>\n",
       "      <td>The location is extremely convenient, safe and...</td>\n",
       "      <td>2.0</td>\n",
       "      <td>1.0</td>\n",
       "      <td>1.5</td>\n",
       "      <td>Ipanema</td>\n",
       "      <td>3</td>\n",
       "      <td>t</td>\n",
       "      <td>f</td>\n",
       "    </tr>\n",
       "  </tbody>\n",
       "</table>\n",
       "</div>"
      ],
      "text/plain": [
       "      id  price                                              space  beds  \\\n",
       "0  17878  300.0  - large balcony which looks out on pedestrian ...   2.0   \n",
       "1  24480  228.0  The studio is located at Vinicius de Moraes St...   1.0   \n",
       "2  25026  159.0  This newly renovated studio (last renovations ...   2.0   \n",
       "3  31560  247.0  This nice and clean 1 bedroom apartment is loc...   2.0   \n",
       "4  35636  342.0  The location is extremely convenient, safe and...   2.0   \n",
       "\n",
       "   bedrooms  bathrooms neighbourhood  accommodates host_is_superhost  \\\n",
       "0       2.0        1.0    Copacabana             5                 f   \n",
       "1       1.0        1.0       Ipanema             2                 f   \n",
       "2       1.0        1.0    Copacabana             3                 f   \n",
       "3       1.0        1.0       Ipanema             3                 t   \n",
       "4       1.0        1.5       Ipanema             3                 t   \n",
       "\n",
       "  instant_bookable  \n",
       "0                t  \n",
       "1                f  \n",
       "2                f  \n",
       "3                t  \n",
       "4                f  "
      ]
     },
     "execution_count": 3,
     "metadata": {},
     "output_type": "execute_result"
    }
   ],
   "source": [
    "df = pd.read_csv('dataframe_ex.csv', index_col=0)\n",
    "df.head()"
   ]
  },
  {
   "cell_type": "code",
   "execution_count": 62,
   "metadata": {},
   "outputs": [
    {
     "data": {
      "text/html": [
       "<div>\n",
       "<style>\n",
       "    .dataframe thead tr:only-child th {\n",
       "        text-align: right;\n",
       "    }\n",
       "\n",
       "    .dataframe thead th {\n",
       "        text-align: left;\n",
       "    }\n",
       "\n",
       "    .dataframe tbody tr th {\n",
       "        vertical-align: top;\n",
       "    }\n",
       "</style>\n",
       "<table border=\"1\" class=\"dataframe\">\n",
       "  <thead>\n",
       "    <tr style=\"text-align: right;\">\n",
       "      <th></th>\n",
       "      <th>alérgico</th>\n",
       "      <th>idade</th>\n",
       "      <th>nome</th>\n",
       "      <th>sobrenome</th>\n",
       "    </tr>\n",
       "  </thead>\n",
       "  <tbody>\n",
       "    <tr>\n",
       "      <th>0</th>\n",
       "      <td>False</td>\n",
       "      <td>26</td>\n",
       "      <td>Roberto</td>\n",
       "      <td>Arantes</td>\n",
       "    </tr>\n",
       "    <tr>\n",
       "      <th>1</th>\n",
       "      <td>True</td>\n",
       "      <td>24</td>\n",
       "      <td>Mariana</td>\n",
       "      <td>Dias</td>\n",
       "    </tr>\n",
       "  </tbody>\n",
       "</table>\n",
       "</div>"
      ],
      "text/plain": [
       "   alérgico  idade     nome sobrenome\n",
       "0     False     26  Roberto   Arantes\n",
       "1      True     24  Mariana      Dias"
      ]
     },
     "execution_count": 62,
     "metadata": {},
     "output_type": "execute_result"
    }
   ],
   "source": [
    "infoDf=pd.DataFrame(infos)\n",
    "infoDf"
   ]
  },
  {
   "cell_type": "markdown",
   "metadata": {},
   "source": [
    "### Mexendo com os dados\n",
    "\n",
    "O poder do **pandas** está na facilidade com que ele permite manipular e visualizar os dados"
   ]
  },
  {
   "cell_type": "markdown",
   "metadata": {},
   "source": [
    "#### Descritivos\n",
    "\n",
    "Conhecendo os dados"
   ]
  },
  {
   "cell_type": "code",
   "execution_count": 65,
   "metadata": {},
   "outputs": [
    {
     "data": {
      "text/html": [
       "<div>\n",
       "<style>\n",
       "    .dataframe thead tr:only-child th {\n",
       "        text-align: right;\n",
       "    }\n",
       "\n",
       "    .dataframe thead th {\n",
       "        text-align: left;\n",
       "    }\n",
       "\n",
       "    .dataframe tbody tr th {\n",
       "        vertical-align: top;\n",
       "    }\n",
       "</style>\n",
       "<table border=\"1\" class=\"dataframe\">\n",
       "  <thead>\n",
       "    <tr style=\"text-align: right;\">\n",
       "      <th></th>\n",
       "      <th>id</th>\n",
       "      <th>price</th>\n",
       "      <th>name</th>\n",
       "      <th>house_rules</th>\n",
       "      <th>bedrooms</th>\n",
       "      <th>bathrooms</th>\n",
       "    </tr>\n",
       "  </thead>\n",
       "  <tbody>\n",
       "    <tr>\n",
       "      <th>0</th>\n",
       "      <td>17878</td>\n",
       "      <td>300.0</td>\n",
       "      <td>Very Nice 2Br - Copacabana - WiFi</td>\n",
       "      <td>Please leave the apartment in a clean fashion ...</td>\n",
       "      <td>2.0</td>\n",
       "      <td>1.0</td>\n",
       "    </tr>\n",
       "    <tr>\n",
       "      <th>1</th>\n",
       "      <td>24480</td>\n",
       "      <td>228.0</td>\n",
       "      <td>Nice and cozy near Ipanema Beach</td>\n",
       "      <td>Please remove sand when you come from the beac...</td>\n",
       "      <td>1.0</td>\n",
       "      <td>1.0</td>\n",
       "    </tr>\n",
       "    <tr>\n",
       "      <th>2</th>\n",
       "      <td>25026</td>\n",
       "      <td>159.0</td>\n",
       "      <td>Beautiful Modern Decorated Studio in Copa</td>\n",
       "      <td>Smoking outside only. Family building so pleas...</td>\n",
       "      <td>1.0</td>\n",
       "      <td>1.0</td>\n",
       "    </tr>\n",
       "    <tr>\n",
       "      <th>3</th>\n",
       "      <td>31560</td>\n",
       "      <td>247.0</td>\n",
       "      <td>NICE &amp; COZY 1BDR - IPANEMA BEACH</td>\n",
       "      <td>So far, I haven't had any problems with guests...</td>\n",
       "      <td>1.0</td>\n",
       "      <td>1.0</td>\n",
       "    </tr>\n",
       "    <tr>\n",
       "      <th>4</th>\n",
       "      <td>35636</td>\n",
       "      <td>342.0</td>\n",
       "      <td>Cosy flat close to Ipanema beach</td>\n",
       "      <td>Dear Guest, Welcome! We hope you enjoy our apa...</td>\n",
       "      <td>1.0</td>\n",
       "      <td>1.5</td>\n",
       "    </tr>\n",
       "  </tbody>\n",
       "</table>\n",
       "</div>"
      ],
      "text/plain": [
       "      id  price                                       name  \\\n",
       "0  17878  300.0          Very Nice 2Br - Copacabana - WiFi   \n",
       "1  24480  228.0           Nice and cozy near Ipanema Beach   \n",
       "2  25026  159.0  Beautiful Modern Decorated Studio in Copa   \n",
       "3  31560  247.0           NICE & COZY 1BDR - IPANEMA BEACH   \n",
       "4  35636  342.0           Cosy flat close to Ipanema beach   \n",
       "\n",
       "                                         house_rules  bedrooms  bathrooms  \n",
       "0  Please leave the apartment in a clean fashion ...       2.0        1.0  \n",
       "1  Please remove sand when you come from the beac...       1.0        1.0  \n",
       "2  Smoking outside only. Family building so pleas...       1.0        1.0  \n",
       "3  So far, I haven't had any problems with guests...       1.0        1.0  \n",
       "4  Dear Guest, Welcome! We hope you enjoy our apa...       1.0        1.5  "
      ]
     },
     "execution_count": 65,
     "metadata": {},
     "output_type": "execute_result"
    }
   ],
   "source": [
    "df.head()"
   ]
  },
  {
   "cell_type": "code",
   "execution_count": 64,
   "metadata": {},
   "outputs": [
    {
     "data": {
      "text/plain": [
       "Index(['id', 'price', 'name', 'house_rules', 'bedrooms', 'bathrooms'], dtype='object')"
      ]
     },
     "execution_count": 64,
     "metadata": {},
     "output_type": "execute_result"
    }
   ],
   "source": [
    "df.columns"
   ]
  },
  {
   "cell_type": "code",
   "execution_count": 67,
   "metadata": {},
   "outputs": [
    {
     "data": {
      "text/plain": [
       "Index(['i_od4HAsVLo', 'L_jWHffIx5E', 'wZZ7oFKsKzY', 'kxopViU98Xo',\n",
       "       'CaE0JD1X12g'],\n",
       "      dtype='object')"
      ]
     },
     "execution_count": 67,
     "metadata": {},
     "output_type": "execute_result"
    }
   ],
   "source": [
    "s.index"
   ]
  },
  {
   "cell_type": "code",
   "execution_count": 68,
   "metadata": {},
   "outputs": [
    {
     "data": {
      "text/html": [
       "<div>\n",
       "<style>\n",
       "    .dataframe thead tr:only-child th {\n",
       "        text-align: right;\n",
       "    }\n",
       "\n",
       "    .dataframe thead th {\n",
       "        text-align: left;\n",
       "    }\n",
       "\n",
       "    .dataframe tbody tr th {\n",
       "        vertical-align: top;\n",
       "    }\n",
       "</style>\n",
       "<table border=\"1\" class=\"dataframe\">\n",
       "  <thead>\n",
       "    <tr style=\"text-align: right;\">\n",
       "      <th></th>\n",
       "      <th>id</th>\n",
       "      <th>price</th>\n",
       "      <th>bedrooms</th>\n",
       "      <th>bathrooms</th>\n",
       "    </tr>\n",
       "  </thead>\n",
       "  <tbody>\n",
       "    <tr>\n",
       "      <th>count</th>\n",
       "      <td>3.560200e+04</td>\n",
       "      <td>35602.000000</td>\n",
       "      <td>35578.000000</td>\n",
       "      <td>35533.000000</td>\n",
       "    </tr>\n",
       "    <tr>\n",
       "      <th>mean</th>\n",
       "      <td>1.350431e+07</td>\n",
       "      <td>634.809954</td>\n",
       "      <td>1.661673</td>\n",
       "      <td>1.711733</td>\n",
       "    </tr>\n",
       "    <tr>\n",
       "      <th>std</th>\n",
       "      <td>7.771073e+06</td>\n",
       "      <td>1610.795395</td>\n",
       "      <td>1.093058</td>\n",
       "      <td>1.052553</td>\n",
       "    </tr>\n",
       "    <tr>\n",
       "      <th>min</th>\n",
       "      <td>1.787800e+04</td>\n",
       "      <td>0.000000</td>\n",
       "      <td>0.000000</td>\n",
       "      <td>0.000000</td>\n",
       "    </tr>\n",
       "    <tr>\n",
       "      <th>25%</th>\n",
       "      <td>8.188927e+06</td>\n",
       "      <td>152.000000</td>\n",
       "      <td>1.000000</td>\n",
       "      <td>1.000000</td>\n",
       "    </tr>\n",
       "    <tr>\n",
       "      <th>50%</th>\n",
       "      <td>1.358789e+07</td>\n",
       "      <td>300.000000</td>\n",
       "      <td>1.000000</td>\n",
       "      <td>1.000000</td>\n",
       "    </tr>\n",
       "    <tr>\n",
       "      <th>75%</th>\n",
       "      <td>1.888895e+07</td>\n",
       "      <td>600.000000</td>\n",
       "      <td>2.000000</td>\n",
       "      <td>2.000000</td>\n",
       "    </tr>\n",
       "    <tr>\n",
       "      <th>max</th>\n",
       "      <td>3.004268e+07</td>\n",
       "      <td>39998.000000</td>\n",
       "      <td>45.000000</td>\n",
       "      <td>20.000000</td>\n",
       "    </tr>\n",
       "  </tbody>\n",
       "</table>\n",
       "</div>"
      ],
      "text/plain": [
       "                 id         price      bedrooms     bathrooms\n",
       "count  3.560200e+04  35602.000000  35578.000000  35533.000000\n",
       "mean   1.350431e+07    634.809954      1.661673      1.711733\n",
       "std    7.771073e+06   1610.795395      1.093058      1.052553\n",
       "min    1.787800e+04      0.000000      0.000000      0.000000\n",
       "25%    8.188927e+06    152.000000      1.000000      1.000000\n",
       "50%    1.358789e+07    300.000000      1.000000      1.000000\n",
       "75%    1.888895e+07    600.000000      2.000000      2.000000\n",
       "max    3.004268e+07  39998.000000     45.000000     20.000000"
      ]
     },
     "execution_count": 68,
     "metadata": {},
     "output_type": "execute_result"
    }
   ],
   "source": [
    "df.describe()"
   ]
  },
  {
   "cell_type": "code",
   "execution_count": 69,
   "metadata": {},
   "outputs": [
    {
     "data": {
      "text/plain": [
       "id               int64\n",
       "price          float64\n",
       "name            object\n",
       "house_rules     object\n",
       "bedrooms       float64\n",
       "bathrooms      float64\n",
       "dtype: object"
      ]
     },
     "execution_count": 69,
     "metadata": {},
     "output_type": "execute_result"
    }
   ],
   "source": [
    "df.dtypes"
   ]
  },
  {
   "cell_type": "code",
   "execution_count": 71,
   "metadata": {},
   "outputs": [
    {
     "data": {
      "text/plain": [
       "id             35602\n",
       "price          35602\n",
       "name           35529\n",
       "house_rules    17713\n",
       "bedrooms       35578\n",
       "bathrooms      35533\n",
       "dtype: int64"
      ]
     },
     "execution_count": 71,
     "metadata": {},
     "output_type": "execute_result"
    }
   ],
   "source": [
    "df.count()"
   ]
  },
  {
   "cell_type": "code",
   "execution_count": 76,
   "metadata": {},
   "outputs": [
    {
     "data": {
      "text/plain": [
       "id           30042682.0\n",
       "price           39998.0\n",
       "bedrooms           45.0\n",
       "bathrooms          20.0\n",
       "dtype: float64"
      ]
     },
     "execution_count": 76,
     "metadata": {},
     "output_type": "execute_result"
    }
   ],
   "source": [
    "df.max()"
   ]
  },
  {
   "cell_type": "code",
   "execution_count": 78,
   "metadata": {},
   "outputs": [
    {
     "data": {
      "text/plain": [
       "0    300.0\n",
       "1    228.0\n",
       "2    159.0\n",
       "3    247.0\n",
       "4    342.0\n",
       "Name: price, dtype: float64"
      ]
     },
     "execution_count": 78,
     "metadata": {},
     "output_type": "execute_result"
    }
   ],
   "source": [
    "df.price.head()"
   ]
  },
  {
   "cell_type": "code",
   "execution_count": 83,
   "metadata": {},
   "outputs": [
    {
     "data": {
      "text/plain": [
       "60823.0"
      ]
     },
     "execution_count": 83,
     "metadata": {},
     "output_type": "execute_result"
    }
   ],
   "source": [
    "df.bathrooms.sum()"
   ]
  },
  {
   "cell_type": "code",
   "execution_count": 84,
   "metadata": {},
   "outputs": [
    {
     "data": {
      "text/plain": [
       "634.8099544969384"
      ]
     },
     "execution_count": 84,
     "metadata": {},
     "output_type": "execute_result"
    }
   ],
   "source": [
    "df.price.mean()"
   ]
  },
  {
   "cell_type": "markdown",
   "metadata": {},
   "source": [
    "Para encontrar um elemento"
   ]
  },
  {
   "cell_type": "code",
   "execution_count": 89,
   "metadata": {},
   "outputs": [
    {
     "data": {
      "text/plain": [
       "'- No talking at the outside after 10pm.'"
      ]
     },
     "execution_count": 89,
     "metadata": {},
     "output_type": "execute_result"
    }
   ],
   "source": [
    "df.iloc[7,3]"
   ]
  },
  {
   "cell_type": "code",
   "execution_count": 90,
   "metadata": {},
   "outputs": [
    {
     "data": {
      "text/plain": [
       "'- No talking at the outside after 10pm.'"
      ]
     },
     "execution_count": 90,
     "metadata": {},
     "output_type": "execute_result"
    }
   ],
   "source": [
    "df.loc[7, 'house_rules']"
   ]
  },
  {
   "cell_type": "markdown",
   "metadata": {},
   "source": [
    "Filtros"
   ]
  },
  {
   "cell_type": "code",
   "execution_count": 92,
   "metadata": {},
   "outputs": [
    {
     "data": {
      "text/html": [
       "<div>\n",
       "<style>\n",
       "    .dataframe thead tr:only-child th {\n",
       "        text-align: right;\n",
       "    }\n",
       "\n",
       "    .dataframe thead th {\n",
       "        text-align: left;\n",
       "    }\n",
       "\n",
       "    .dataframe tbody tr th {\n",
       "        vertical-align: top;\n",
       "    }\n",
       "</style>\n",
       "<table border=\"1\" class=\"dataframe\">\n",
       "  <thead>\n",
       "    <tr style=\"text-align: right;\">\n",
       "      <th></th>\n",
       "      <th>id</th>\n",
       "      <th>price</th>\n",
       "      <th>name</th>\n",
       "      <th>house_rules</th>\n",
       "      <th>bedrooms</th>\n",
       "      <th>bathrooms</th>\n",
       "    </tr>\n",
       "  </thead>\n",
       "  <tbody>\n",
       "    <tr>\n",
       "      <th>0</th>\n",
       "      <td>17878</td>\n",
       "      <td>300.0</td>\n",
       "      <td>Very Nice 2Br - Copacabana - WiFi</td>\n",
       "      <td>Please leave the apartment in a clean fashion ...</td>\n",
       "      <td>2.0</td>\n",
       "      <td>1.0</td>\n",
       "    </tr>\n",
       "    <tr>\n",
       "      <th>1</th>\n",
       "      <td>24480</td>\n",
       "      <td>228.0</td>\n",
       "      <td>Nice and cozy near Ipanema Beach</td>\n",
       "      <td>Please remove sand when you come from the beac...</td>\n",
       "      <td>1.0</td>\n",
       "      <td>1.0</td>\n",
       "    </tr>\n",
       "    <tr>\n",
       "      <th>2</th>\n",
       "      <td>25026</td>\n",
       "      <td>159.0</td>\n",
       "      <td>Beautiful Modern Decorated Studio in Copa</td>\n",
       "      <td>Smoking outside only. Family building so pleas...</td>\n",
       "      <td>1.0</td>\n",
       "      <td>1.0</td>\n",
       "    </tr>\n",
       "    <tr>\n",
       "      <th>3</th>\n",
       "      <td>31560</td>\n",
       "      <td>247.0</td>\n",
       "      <td>NICE &amp; COZY 1BDR - IPANEMA BEACH</td>\n",
       "      <td>So far, I haven't had any problems with guests...</td>\n",
       "      <td>1.0</td>\n",
       "      <td>1.0</td>\n",
       "    </tr>\n",
       "    <tr>\n",
       "      <th>5</th>\n",
       "      <td>35764</td>\n",
       "      <td>220.0</td>\n",
       "      <td>COPACABANA SEA BREEZE  -  RIO</td>\n",
       "      <td>Pede-se carteira de identidade, CPF e comprova...</td>\n",
       "      <td>1.0</td>\n",
       "      <td>1.0</td>\n",
       "    </tr>\n",
       "  </tbody>\n",
       "</table>\n",
       "</div>"
      ],
      "text/plain": [
       "      id  price                                       name  \\\n",
       "0  17878  300.0          Very Nice 2Br - Copacabana - WiFi   \n",
       "1  24480  228.0           Nice and cozy near Ipanema Beach   \n",
       "2  25026  159.0  Beautiful Modern Decorated Studio in Copa   \n",
       "3  31560  247.0           NICE & COZY 1BDR - IPANEMA BEACH   \n",
       "5  35764  220.0              COPACABANA SEA BREEZE  -  RIO   \n",
       "\n",
       "                                         house_rules  bedrooms  bathrooms  \n",
       "0  Please leave the apartment in a clean fashion ...       2.0        1.0  \n",
       "1  Please remove sand when you come from the beac...       1.0        1.0  \n",
       "2  Smoking outside only. Family building so pleas...       1.0        1.0  \n",
       "3  So far, I haven't had any problems with guests...       1.0        1.0  \n",
       "5  Pede-se carteira de identidade, CPF e comprova...       1.0        1.0  "
      ]
     },
     "execution_count": 92,
     "metadata": {},
     "output_type": "execute_result"
    }
   ],
   "source": [
    "df[df['price']<=300].head()"
   ]
  },
  {
   "cell_type": "code",
   "execution_count": 95,
   "metadata": {},
   "outputs": [
    {
     "data": {
      "text/plain": [
       "37072.0"
      ]
     },
     "execution_count": 95,
     "metadata": {},
     "output_type": "execute_result"
    }
   ],
   "source": [
    "df[df['price']<=df['price'].mean()].bedrooms.sum()"
   ]
  },
  {
   "cell_type": "code",
   "execution_count": 109,
   "metadata": {},
   "outputs": [
    {
     "data": {
      "text/plain": [
       "1.2688431597368897"
      ]
     },
     "execution_count": 109,
     "metadata": {},
     "output_type": "execute_result"
    }
   ],
   "source": [
    "df[(df.price<=df.price.mean()) & (df.bedrooms==df.bathrooms)].bedrooms.mean()"
   ]
  },
  {
   "cell_type": "markdown",
   "metadata": {
    "collapsed": true
   },
   "source": [
    "### Visualizando os dados\n",
    "\n",
    "Uma das partes mais importantes de trabalhosa ao se deparar com um problema é tentar extrair insights dos dados, de onde partiremos com hipóteses e ideias para o modelo. Uma forma de fazer isso é explorando visualmente as informações.\n",
    "\n",
    "Para isso, utilizaremos a biblioteca Seaborn"
   ]
  },
  {
   "cell_type": "code",
   "execution_count": 1,
   "metadata": {
    "collapsed": true
   },
   "outputs": [],
   "source": [
    "import matplotlib.pyplot as plt\n",
    "import seaborn as sns\n",
    "plt.ion()\n",
    "%matplotlib inline"
   ]
  },
  {
   "cell_type": "markdown",
   "metadata": {},
   "source": [
    "#### Scatter plot\n",
    "\n",
    "*Scatter plot* é formado simplesmente ao plotar os pontos nas duas dimensões escolhidas para os eixos\n",
    "\n",
    "Nos permite inferir uma relação entre as duas dimensões, assim como visualizar melhor seus intervalos"
   ]
  },
  {
   "cell_type": "code",
   "execution_count": 4,
   "metadata": {},
   "outputs": [
    {
     "data": {
      "text/plain": [
       "<matplotlib.axes._subplots.AxesSubplot at 0x194bce9fd68>"
      ]
     },
     "execution_count": 4,
     "metadata": {},
     "output_type": "execute_result"
    },
    {
     "data": {
      "image/png": "[encoded data removed]",
      "text/plain": [
       "<Figure size 432x288 with 1 Axes>"
      ]
     },
     "metadata": {},
     "output_type": "display_data"
    }
   ],
   "source": [
    "df2 = df[(df.accommodates<=20) & (df.price<=2000)]\n",
    "sns.regplot(x=df2[\"beds\"], y=df2[\"accommodates\"], fit_reg=False)"
   ]
  },
  {
   "cell_type": "markdown",
   "metadata": {},
   "source": [
    "#### Box plot\n",
    "\n",
    "*Box plot*, ou diagrama de caixa, é uma fácil de visualizar a distribuição dos valores de uma variável, assim como comparar as diferenças entre grupos.\n",
    "\n",
    "É composto pelos elementos: mediana, 1º e 3º quartis, e limites inferior e superior, além dos *outliers*"
   ]
  },
  {
   "cell_type": "code",
   "execution_count": 5,
   "metadata": {},
   "outputs": [
    {
     "data": {
      "text/plain": [
       "(array([ 0,  1,  2,  3,  4,  5,  6,  7,  8,  9, 10, 11]),\n",
       " <a list of 12 Text xticklabel objects>)"
      ]
     },
     "execution_count": 5,
     "metadata": {},
     "output_type": "execute_result"
    },
    {
     "data": {
      "image/png": "[encoded data removed]",
      "text/plain": [
       "<Figure size 432x288 with 1 Axes>"
      ]
     },
     "metadata": {},
     "output_type": "display_data"
    }
   ],
   "source": [
    "df3 = df2[df2.neighbourhood.isin(['Copacabana', 'Barra da Tijuca', 'Ipanema',\n",
    "       'Recreio dos Bandeirantes', 'Botafogo', 'Leblon', 'Santa Teresa',\n",
    "       'Flamengo', 'Tijuca', 'Lapa', 'Laranjeiras', 'Leme'])]\n",
    "sns.boxplot(x=df3[\"neighbourhood\"], y=df3[\"price\"])\n",
    "plt.xticks(rotation=70)"
   ]
  },
  {
   "cell_type": "markdown",
   "metadata": {},
   "source": [
    "#### Violin plot\n",
    "\n",
    "Mesmo objetivo que o *box plot*, porém também contém uma estimativa da distribuição. Especialmente útil no caso em que as distribuições não são propriamente normais."
   ]
  },
  {
   "cell_type": "code",
   "execution_count": 6,
   "metadata": {},
   "outputs": [
    {
     "data": {
      "text/plain": [
       "<matplotlib.axes._subplots.AxesSubplot at 0x194bd60a080>"
      ]
     },
     "execution_count": 6,
     "metadata": {},
     "output_type": "execute_result"
    },
    {
     "data": {
      "image/png": "[encoded data removed]",
      "text/plain": [
       "<Figure size 432x288 with 1 Axes>"
      ]
     },
     "metadata": {},
     "output_type": "display_data"
    }
   ],
   "source": [
    "sns.violinplot(x = df3.instant_bookable, y=df3.price, hue=df3.host_is_superhost)"
   ]
  },
  {
   "cell_type": "markdown",
   "metadata": {},
   "source": [
    "#### Gráfico de barras\n",
    "\n",
    "O bom e velho gráfico de barras também tem o seu valor. Particularmente pela facilidade de mudar a visão do eixo y\n",
    "\n",
    "Para contagem de elementos, podemos utilizar o **countplot**"
   ]
  },
  {
   "cell_type": "code",
   "execution_count": 7,
   "metadata": {},
   "outputs": [
    {
     "data": {
      "text/plain": [
       "(array([ 0,  1,  2,  3,  4,  5,  6,  7,  8,  9, 10, 11, 12, 13, 14, 15, 16,\n",
       "        17, 18, 19, 20, 21, 22, 23]), <a list of 24 Text xticklabel objects>)"
      ]
     },
     "execution_count": 7,
     "metadata": {},
     "output_type": "execute_result"
    },
    {
     "data": {
      "image/png": "[encoded data removed]",
      "text/plain": [
       "<Figure size 432x288 with 1 Axes>"
      ]
     },
     "metadata": {},
     "output_type": "display_data"
    }
   ],
   "source": [
    "sns.countplot(x=df3.beds)\n",
    "plt.xticks(rotation=50)"
   ]
  },
  {
   "cell_type": "markdown",
   "metadata": {
    "collapsed": true
   },
   "source": [
    "Caso queiramos outras operações, o **barplot** oferece algumas opções no campo *estimator*"
   ]
  },
  {
   "cell_type": "code",
   "execution_count": 16,
   "metadata": {},
   "outputs": [
    {
     "data": {
      "text/plain": [
       "(array([ 0,  1,  2,  3,  4,  5,  6,  7,  8,  9, 10, 11, 12, 13, 14, 15, 16,\n",
       "        17, 18, 19, 20, 21, 22, 23]), <a list of 24 Text xticklabel objects>)"
      ]
     },
     "execution_count": 16,
     "metadata": {},
     "output_type": "execute_result"
    },
    {
     "data": {
      "image/png": "[encoded data removed]",
      "text/plain": [
       "<Figure size 432x288 with 1 Axes>"
      ]
     },
     "metadata": {},
     "output_type": "display_data"
    }
   ],
   "source": [
    "sns.barplot(x=df3.beds, y=df3.price)\n",
    "plt.xticks(rotation=50)"
   ]
  },
  {
   "cell_type": "code",
   "execution_count": 28,
   "metadata": {},
   "outputs": [
    {
     "data": {
      "text/plain": [
       "(array([0, 1]), <a list of 2 Text xticklabel objects>)"
      ]
     },
     "execution_count": 28,
     "metadata": {},
     "output_type": "execute_result"
    },
    {
     "data": {
      "image/png": "[encoded data removed]",
      "text/plain": [
       "<Figure size 432x288 with 1 Axes>"
      ]
     },
     "metadata": {},
     "output_type": "display_data"
    }
   ],
   "source": [
    "from numpy import median\n",
    "sns.barplot(x=df3.instant_bookable, y=df3.price, hue=df3.host_is_superhost, estimator=median)\n",
    "plt.xticks(rotation=50)"
   ]
  },
  {
   "cell_type": "code",
   "execution_count": 26,
   "metadata": {},
   "outputs": [
    {
     "data": {
      "text/plain": [
       "(array([ 0,  1,  2,  3,  4,  5,  6,  7,  8,  9, 10, 11]),\n",
       " <a list of 12 Text xticklabel objects>)"
      ]
     },
     "execution_count": 26,
     "metadata": {},
     "output_type": "execute_result"
    },
    {
     "data": {
      "image/png": "[encoded data removed]",
      "text/plain": [
       "<Figure size 432x288 with 1 Axes>"
      ]
     },
     "metadata": {},
     "output_type": "display_data"
    }
   ],
   "source": [
    "sns.barplot(x=df3.neighbourhood, y=df3.accommodates, estimator=sum)\n",
    "plt.xticks(rotation=80)"
   ]
  },
  {
   "cell_type": "code",
   "execution_count": null,
   "metadata": {
    "collapsed": true
   },
   "outputs": [],
   "source": []
  }
 ],
 "metadata": {
  "kernelspec": {
   "display_name": "Python 3",
   "language": "python",
   "name": "python3"
  },
  "language_info": {
   "codemirror_mode": {
    "name": "ipython",
    "version": 3
   },
   "file_extension": ".py",
   "mimetype": "text/x-python",
   "name": "python",
   "nbconvert_exporter": "python",
   "pygments_lexer": "ipython3",
   "version": "3.6.8"
  }
 },
 "nbformat": 4,
 "nbformat_minor": 2
}
